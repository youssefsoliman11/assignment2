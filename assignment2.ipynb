{
 "cells":[
  {
   "cell_type":"code",
   "source":[
    "import pandas as pd\n",
    "import numpy as np\n",
    "import statsmodels.api as sm\n",
    "from statsmodels.stats.proportion import proportion_confint\n",
    "import matplotlib.pyplot as plt\n",
    "from scipy.stats import t\n",
    "from pandas.api.types import CategoricalDtype\n",
    "from matplotlib.transforms import Affine2D"
   ],
   "execution_count":1,
   "outputs":[
    
   ],
   "metadata":{
    "datalore":{
     "type":"CODE",
     "hide_input_from_viewers":false,
     "hide_output_from_viewers":false
    }
   }
  },
  {
   "cell_type":"code",
   "source":[
    "#in the first part we see the effects of the crowds on football game\n",
    "#I calcluated the odds of the home team winning at home and away and plot a graph to shows for it\n",
    "#in the study there are 2 types of matches recorded friendly and offical\n",
    "#I tried to see the effects of the fans on teams with different levels\n",
    "# I used egypt and scotland as the lower level teams and france and england for the elite level teams "
   ],
   "execution_count":2,
   "outputs":[
    
   ],
   "metadata":{
    "datalore":{
     "type":"CODE",
     "hide_input_from_viewers":false,
     "hide_output_from_viewers":false
    }
   }
  },
  {
   "cell_type":"code",
   "source":[
    "df=pd.read_csv(\"results.csv\")"
   ],
   "execution_count":3,
   "outputs":[
    
   ],
   "metadata":{
    "datalore":{
     "type":"CODE",
     "hide_input_from_viewers":false,
     "hide_output_from_viewers":false
    }
   }
  },
  {
   "cell_type":"code",
   "source":[
    "#I calculated to see if the home team won or lost the match\n",
    "x=df['home_score']-df['away_score']"
   ],
   "execution_count":4,
   "outputs":[
    
   ],
   "metadata":{
    "datalore":{
     "type":"CODE",
     "hide_input_from_viewers":false,
     "hide_output_from_viewers":false
    }
   }
  },
  {
   "cell_type":"code",
   "source":[
    "conditions = [\n",
    " (x<0),\n",
    " (x>0),\n",
    " (x==0)\n",
    " ]\n",
    "values= ['win','lose','draw']"
   ],
   "execution_count":5,
   "outputs":[
    
   ],
   "metadata":{
    "datalore":{
     "type":"CODE",
     "hide_input_from_viewers":false,
     "hide_output_from_viewers":false
    }
   }
  },
  {
   "cell_type":"code",
   "source":[
    "df['result'] = np.select(conditions, values)\n",
    "df.head(3)"
   ],
   "execution_count":6,
   "outputs":[
    {
     "data":{
      "text\/html":[
       "<div>\n",
       "<style scoped>\n",
       "    .dataframe tbody tr th:only-of-type {\n",
       "        vertical-align: middle;\n",
       "    }\n",
       "\n",
       "    .dataframe tbody tr th {\n",
       "        vertical-align: top;\n",
       "    }\n",
       "\n",
       "    .dataframe thead th {\n",
       "        text-align: right;\n",
       "    }\n",
       "<\/style>\n",
       "<table border=\"1\" class=\"dataframe\">\n",
       "  <thead>\n",
       "    <tr style=\"text-align: right;\">\n",
       "      <th><\/th>\n",
       "      <th>date<\/th>\n",
       "      <th>home_team<\/th>\n",
       "      <th>away_team<\/th>\n",
       "      <th>home_score<\/th>\n",
       "      <th>away_score<\/th>\n",
       "      <th>tournament<\/th>\n",
       "      <th>city<\/th>\n",
       "      <th>country<\/th>\n",
       "      <th>neutral<\/th>\n",
       "      <th>result<\/th>\n",
       "    <\/tr>\n",
       "  <\/thead>\n",
       "  <tbody>\n",
       "    <tr>\n",
       "      <th>0<\/th>\n",
       "      <td>1872-11-30<\/td>\n",
       "      <td>Scotland<\/td>\n",
       "      <td>England<\/td>\n",
       "      <td>0<\/td>\n",
       "      <td>0<\/td>\n",
       "      <td>Friendly<\/td>\n",
       "      <td>Glasgow<\/td>\n",
       "      <td>Scotland<\/td>\n",
       "      <td>False<\/td>\n",
       "      <td>draw<\/td>\n",
       "    <\/tr>\n",
       "    <tr>\n",
       "      <th>1<\/th>\n",
       "      <td>1873-03-08<\/td>\n",
       "      <td>England<\/td>\n",
       "      <td>Scotland<\/td>\n",
       "      <td>4<\/td>\n",
       "      <td>2<\/td>\n",
       "      <td>Friendly<\/td>\n",
       "      <td>London<\/td>\n",
       "      <td>England<\/td>\n",
       "      <td>False<\/td>\n",
       "      <td>lose<\/td>\n",
       "    <\/tr>\n",
       "    <tr>\n",
       "      <th>2<\/th>\n",
       "      <td>1874-03-07<\/td>\n",
       "      <td>Scotland<\/td>\n",
       "      <td>England<\/td>\n",
       "      <td>2<\/td>\n",
       "      <td>1<\/td>\n",
       "      <td>Friendly<\/td>\n",
       "      <td>Glasgow<\/td>\n",
       "      <td>Scotland<\/td>\n",
       "      <td>False<\/td>\n",
       "      <td>lose<\/td>\n",
       "    <\/tr>\n",
       "  <\/tbody>\n",
       "<\/table>\n",
       "<\/div>"
      ]
     },
     "metadata":{
      
     },
     "output_type":"display_data"
    }
   ],
   "metadata":{
    "datalore":{
     "type":"CODE",
     "hide_input_from_viewers":false,
     "hide_output_from_viewers":false
    }
   }
  },
  {
   "cell_type":"code",
   "source":[
    "#I started with egypt and divided the matches to friendly and official\n",
    "dfegy=df[df['country']=='Egypt']\n",
    "conditions = [\n",
    " (dfegy['tournament']=='Friendly'),\n",
    " (dfegy['tournament']!='Friendly')\n",
    " ]\n",
    "values=['Friendly','official']"
   ],
   "execution_count":7,
   "outputs":[
    
   ],
   "metadata":{
    "datalore":{
     "type":"CODE",
     "hide_input_from_viewers":false,
     "hide_output_from_viewers":false
    }
   }
  },
  {
   "cell_type":"code",
   "source":[
    "#I then calculated the confidence interval for friendly wins (aplha= 95%)\n",
    "dfegy['typematch'] = np.select(conditions, values)\n",
    "dfegy['typematch'].value_counts()\n",
    "x=pd.crosstab(dfegy['typematch'],dfegy['result'],margins=True)\n",
    "x=np.array(x)\n",
    "CI_egywin_friendly=proportion_confint(count=x[0,2],nobs=x[0,3],alpha=(1-.95))\n",
    "CI_egywin_friendly"
   ],
   "execution_count":8,
   "outputs":[
    {
     "name":"stderr",
     "text":[
      "<ipython-input-8-4b3e26fc617f>:2: SettingWithCopyWarning: \n",
      "A value is trying to be set on a copy of a slice from a DataFrame.\n",
      "Try using .loc[row_indexer,col_indexer] = value instead\n",
      "\n",
      "See the caveats in the documentation: https:\/\/pandas.pydata.org\/pandas-docs\/stable\/user_guide\/indexing.html#returning-a-view-versus-a-copy\n",
      "  dfegy['typematch'] = np.select(conditions, values)\n"
     ],
     "output_type":"stream"
    },
    {
     "data":{
      "text\/plain":[
       "(0.1856528084886489, 0.3115847605721246)"
      ]
     },
     "metadata":{
      
     },
     "output_type":"display_data"
    }
   ],
   "metadata":{
    "datalore":{
     "type":"CODE",
     "hide_input_from_viewers":false,
     "hide_output_from_viewers":false
    }
   }
  },
  {
   "cell_type":"code",
   "source":[
    "#i then calculated the condfidence interval for offiical matches\n",
    "CI_egywin_official=proportion_confint(count=x[1,2],nobs=x[1,3],alpha=(\n",
    "1-.95))\n",
    "CI_egywin_official"
   ],
   "execution_count":9,
   "outputs":[
    {
     "data":{
      "text\/plain":[
       "(0.1550517855722795, 0.2608774179675435)"
      ]
     },
     "metadata":{
      
     },
     "output_type":"display_data"
    }
   ],
   "metadata":{
    "datalore":{
     "type":"CODE",
     "hide_input_from_viewers":false,
     "hide_output_from_viewers":false
    }
   }
  },
  {
   "cell_type":"code",
   "source":[
    "#I then put the data in a table with the labels upperbound(ub) and lowerbound(lb)\n",
    "ci_egywin = {}\n",
    "ci_egywin['Typematch'] = ['Friendly','Official']\n",
    "ci_egywin['lb'] = [CI_egywin_friendly[0],CI_egywin_official[0]]\n",
    "ci_egywin['ub'] = [CI_egywin_friendly[1],CI_egywin_official[1]]\n",
    "df_ci= pd.DataFrame(ci_egywin)\n",
    "df_ci"
   ],
   "execution_count":10,
   "outputs":[
    {
     "data":{
      "text\/html":[
       "<div>\n",
       "<style scoped>\n",
       "    .dataframe tbody tr th:only-of-type {\n",
       "        vertical-align: middle;\n",
       "    }\n",
       "\n",
       "    .dataframe tbody tr th {\n",
       "        vertical-align: top;\n",
       "    }\n",
       "\n",
       "    .dataframe thead th {\n",
       "        text-align: right;\n",
       "    }\n",
       "<\/style>\n",
       "<table border=\"1\" class=\"dataframe\">\n",
       "  <thead>\n",
       "    <tr style=\"text-align: right;\">\n",
       "      <th><\/th>\n",
       "      <th>Typematch<\/th>\n",
       "      <th>lb<\/th>\n",
       "      <th>ub<\/th>\n",
       "    <\/tr>\n",
       "  <\/thead>\n",
       "  <tbody>\n",
       "    <tr>\n",
       "      <th>0<\/th>\n",
       "      <td>Friendly<\/td>\n",
       "      <td>0.185653<\/td>\n",
       "      <td>0.311585<\/td>\n",
       "    <\/tr>\n",
       "    <tr>\n",
       "      <th>1<\/th>\n",
       "      <td>Official<\/td>\n",
       "      <td>0.155052<\/td>\n",
       "      <td>0.260877<\/td>\n",
       "    <\/tr>\n",
       "  <\/tbody>\n",
       "<\/table>\n",
       "<\/div>"
      ]
     },
     "metadata":{
      
     },
     "output_type":"display_data"
    }
   ],
   "metadata":{
    "datalore":{
     "type":"CODE",
     "hide_input_from_viewers":false,
     "hide_output_from_viewers":false
    }
   }
  },
  {
   "cell_type":"code",
   "source":[
    "#the graph below shows the confidence interval in general(both home and away games) of the egyptain team\n",
    "for lb,ub,y in zip(df_ci['lb'],df_ci['ub'],range(len(df_ci))):\n",
    " plt.plot((lb,ub),(y,y),'ro-')\n",
    "plt.yticks(range(len(df_ci)),list(df_ci['Typematch']))"
   ],
   "execution_count":11,
   "outputs":[
    {
     "data":{
      "text\/plain":[
       "([<matplotlib.axis.YTick at 0x7f203e1acc40>,\n",
       "  <matplotlib.axis.YTick at 0x7f203e1ac700>],\n",
       " [Text(0, 0, 'Friendly'), Text(0, 1, 'Official')])"
      ],
      "image\/png":"[encoded data removed]"
     },
     "metadata":{
      "image\/png":{
       
      }
     },
     "output_type":"display_data"
    }
   ],
   "metadata":{
    "datalore":{
     "type":"CODE",
     "hide_input_from_viewers":false,
     "hide_output_from_viewers":false
    }
   }
  },
  {
   "cell_type":"code",
   "source":[
    "#i then made table to calculate the games where the egypt team is at home\n",
    "dfegy['home']=(dfegy['home_team']=='Egypt')\n",
    "x=pd.crosstab(dfegy['home'],dfegy['result'],margins=True)\n",
    "x"
   ],
   "execution_count":12,
   "outputs":[
    {
     "name":"stderr",
     "text":[
      "<ipython-input-12-dad04ae3a7c4>:2: SettingWithCopyWarning: \n",
      "A value is trying to be set on a copy of a slice from a DataFrame.\n",
      "Try using .loc[row_indexer,col_indexer] = value instead\n",
      "\n",
      "See the caveats in the documentation: https:\/\/pandas.pydata.org\/pandas-docs\/stable\/user_guide\/indexing.html#returning-a-view-versus-a-copy\n",
      "  dfegy['home']=(dfegy['home_team']=='Egypt')\n"
     ],
     "output_type":"stream"
    },
    {
     "data":{
      "text\/html":[
       "<div>\n",
       "<style scoped>\n",
       "    .dataframe tbody tr th:only-of-type {\n",
       "        vertical-align: middle;\n",
       "    }\n",
       "\n",
       "    .dataframe tbody tr th {\n",
       "        vertical-align: top;\n",
       "    }\n",
       "\n",
       "    .dataframe thead th {\n",
       "        text-align: right;\n",
       "    }\n",
       "<\/style>\n",
       "<table border=\"1\" class=\"dataframe\">\n",
       "  <thead>\n",
       "    <tr style=\"text-align: right;\">\n",
       "      <th>result<\/th>\n",
       "      <th>draw<\/th>\n",
       "      <th>lose<\/th>\n",
       "      <th>win<\/th>\n",
       "      <th>All<\/th>\n",
       "    <\/tr>\n",
       "    <tr>\n",
       "      <th>home<\/th>\n",
       "      <th><\/th>\n",
       "      <th><\/th>\n",
       "      <th><\/th>\n",
       "      <th><\/th>\n",
       "    <\/tr>\n",
       "  <\/thead>\n",
       "  <tbody>\n",
       "    <tr>\n",
       "      <th>False<\/th>\n",
       "      <td>33<\/td>\n",
       "      <td>67<\/td>\n",
       "      <td>49<\/td>\n",
       "      <td>149<\/td>\n",
       "    <\/tr>\n",
       "    <tr>\n",
       "      <th>True<\/th>\n",
       "      <td>44<\/td>\n",
       "      <td>171<\/td>\n",
       "      <td>43<\/td>\n",
       "      <td>258<\/td>\n",
       "    <\/tr>\n",
       "    <tr>\n",
       "      <th>All<\/th>\n",
       "      <td>77<\/td>\n",
       "      <td>238<\/td>\n",
       "      <td>92<\/td>\n",
       "      <td>407<\/td>\n",
       "    <\/tr>\n",
       "  <\/tbody>\n",
       "<\/table>\n",
       "<\/div>"
      ]
     },
     "metadata":{
      
     },
     "output_type":"display_data"
    }
   ],
   "metadata":{
    "datalore":{
     "type":"CODE",
     "hide_input_from_viewers":false,
     "hide_output_from_viewers":false
    }
   }
  },
  {
   "cell_type":"code",
   "source":[
    "#i calculated the confidence interval of wins at home\n",
    "x=np.array(x)\n",
    "CI_egywin_home=proportion_confint(count=x[1,2],nobs=x[1,3],alpha=(1-.95))\n",
    "CI_egywin_home"
   ],
   "execution_count":13,
   "outputs":[
    {
     "data":{
      "text\/plain":[
       "(0.12119174183927744, 0.21214159149405587)"
      ]
     },
     "metadata":{
      
     },
     "output_type":"display_data"
    }
   ],
   "metadata":{
    "datalore":{
     "type":"CODE",
     "hide_input_from_viewers":false,
     "hide_output_from_viewers":false
    }
   }
  },
  {
   "cell_type":"code",
   "source":[
    "# I calculated the confidence interval of winning away\n",
    "CI_egywin_away=proportion_confint(count=x[0,2],nobs=x[0,3],alpha=(1-.95))\n",
    "CI_egywin_away"
   ],
   "execution_count":14,
   "outputs":[
    {
     "data":{
      "text\/plain":[
       "(0.25342513144684364, 0.40429298935852553)"
      ]
     },
     "metadata":{
      
     },
     "output_type":"display_data"
    }
   ],
   "metadata":{
    "datalore":{
     "type":"CODE",
     "hide_input_from_viewers":false,
     "hide_output_from_viewers":false
    }
   }
  },
  {
   "cell_type":"code",
   "source":[
    "ci_egywin = {}\n",
    "ci_egywin['home'] = ['Yes','No']\n",
    "ci_egywin['lb'] = [CI_egywin_home[0],CI_egywin_away[0]]\n",
    "ci_egywin['ub'] = [CI_egywin_home[1],CI_egywin_away[1]]\n",
    "df_ci= pd.DataFrame(ci_egywin)\n",
    "df_ci"
   ],
   "execution_count":15,
   "outputs":[
    {
     "data":{
      "text\/html":[
       "<div>\n",
       "<style scoped>\n",
       "    .dataframe tbody tr th:only-of-type {\n",
       "        vertical-align: middle;\n",
       "    }\n",
       "\n",
       "    .dataframe tbody tr th {\n",
       "        vertical-align: top;\n",
       "    }\n",
       "\n",
       "    .dataframe thead th {\n",
       "        text-align: right;\n",
       "    }\n",
       "<\/style>\n",
       "<table border=\"1\" class=\"dataframe\">\n",
       "  <thead>\n",
       "    <tr style=\"text-align: right;\">\n",
       "      <th><\/th>\n",
       "      <th>home<\/th>\n",
       "      <th>lb<\/th>\n",
       "      <th>ub<\/th>\n",
       "    <\/tr>\n",
       "  <\/thead>\n",
       "  <tbody>\n",
       "    <tr>\n",
       "      <th>0<\/th>\n",
       "      <td>Yes<\/td>\n",
       "      <td>0.121192<\/td>\n",
       "      <td>0.212142<\/td>\n",
       "    <\/tr>\n",
       "    <tr>\n",
       "      <th>1<\/th>\n",
       "      <td>No<\/td>\n",
       "      <td>0.253425<\/td>\n",
       "      <td>0.404293<\/td>\n",
       "    <\/tr>\n",
       "  <\/tbody>\n",
       "<\/table>\n",
       "<\/div>"
      ]
     },
     "metadata":{
      
     },
     "output_type":"display_data"
    }
   ],
   "metadata":{
    "datalore":{
     "type":"CODE",
     "hide_input_from_viewers":false,
     "hide_output_from_viewers":false
    }
   }
  },
  {
   "cell_type":"code",
   "source":[
    "# we see that egypt is more likely to win at away games\n",
    "for lb,ub,y in zip(df_ci['lb'],df_ci['ub'],range(len(df_ci))):\n",
    " plt.plot((lb,ub),(y,y),'ro-')\n",
    "plt.yticks(range(len(df_ci)),list(df_ci['home']))"
   ],
   "execution_count":16,
   "outputs":[
    {
     "data":{
      "text\/plain":[
       "([<matplotlib.axis.YTick at 0x7f203e00abe0>,\n",
       "  <matplotlib.axis.YTick at 0x7f203e00a430>],\n",
       " [Text(0, 0, 'Yes'), Text(0, 1, 'No')])"
      ],
      "image\/png":"[encoded data removed]"
     },
     "metadata":{
      "image\/png":{
       
      }
     },
     "output_type":"display_data"
    }
   ],
   "metadata":{
    "datalore":{
     "type":"CODE",
     "hide_input_from_viewers":false,
     "hide_output_from_viewers":false
    }
   }
  },
  {
   "cell_type":"code",
   "source":[
    "# i repeated the same thing with scotland\n",
    "s=(df['country']=='Scotland').value_counts()\n",
    "s"
   ],
   "execution_count":17,
   "outputs":[
    {
     "data":{
      "text\/html":[
       
      ]
     },
     "metadata":{
      
     },
     "output_type":"display_data"
    }
   ],
   "metadata":{
    "datalore":{
     "type":"CODE",
     "hide_input_from_viewers":false,
     "hide_output_from_viewers":false
    }
   }
  },
  {
   "cell_type":"code",
   "source":[
    "dfscot=df[df['country']=='Scotland']\n",
    "conditions = [\n",
    " (dfscot['tournament']=='Friendly'),\n",
    " (dfscot['tournament']!='Friendly')\n",
    " ]\n",
    "values=['Friendly','official']"
   ],
   "execution_count":18,
   "outputs":[
    
   ],
   "metadata":{
    "datalore":{
     "type":"CODE",
     "hide_input_from_viewers":false,
     "hide_output_from_viewers":false
    }
   }
  },
  {
   "cell_type":"code",
   "source":[
    "dfscot['typematch'] = np.select(conditions, values)\n",
    "dfscot['typematch'].value_counts()\n",
    "x=pd.crosstab(dfscot['typematch'],dfscot['result'],margins=True)\n",
    "x=np.array(x)\n",
    "CI_scotwin_friendly=proportion_confint(count=x[0,2],nobs=x[0,3],alpha=(1-.95))\n",
    "CI_scotwin_friendly"
   ],
   "execution_count":19,
   "outputs":[
    {
     "name":"stderr",
     "text":[
      "<ipython-input-19-d54ebb63f583>:1: SettingWithCopyWarning: \n",
      "A value is trying to be set on a copy of a slice from a DataFrame.\n",
      "Try using .loc[row_indexer,col_indexer] = value instead\n",
      "\n",
      "See the caveats in the documentation: https:\/\/pandas.pydata.org\/pandas-docs\/stable\/user_guide\/indexing.html#returning-a-view-versus-a-copy\n",
      "  dfscot['typematch'] = np.select(conditions, values)\n"
     ],
     "output_type":"stream"
    },
    {
     "data":{
      "text\/plain":[
       "(0.22953573779233233, 0.4059782808992564)"
      ]
     },
     "metadata":{
      
     },
     "output_type":"display_data"
    }
   ],
   "metadata":{
    "datalore":{
     "type":"CODE",
     "hide_input_from_viewers":false,
     "hide_output_from_viewers":false
    }
   }
  },
  {
   "cell_type":"code",
   "source":[
    "CI_scotwin_official=proportion_confint(count=x[1,2],nobs=x[1,3],alpha=(1-.95))\n",
    "CI_scotwin_official"
   ],
   "execution_count":20,
   "outputs":[
    {
     "data":{
      "text\/plain":[
       "(0.1440669471299619, 0.2330374299744152)"
      ]
     },
     "metadata":{
      
     },
     "output_type":"display_data"
    }
   ],
   "metadata":{
    "datalore":{
     "type":"CODE",
     "hide_input_from_viewers":false,
     "hide_output_from_viewers":false
    }
   }
  },
  {
   "cell_type":"code",
   "source":[
    "ci_scotwin = {}\n",
    "ci_scotwin['Typematch'] = ['Friendly','Official']\n",
    "ci_scotwin['lb'] = [CI_scotwin_friendly[0],CI_scotwin_official[0]]\n",
    "ci_scotwin['ub'] = [CI_scotwin_friendly[1],CI_scotwin_official[1]]\n",
    "df_ci= pd.DataFrame(ci_scotwin)\n",
    "df_ci"
   ],
   "execution_count":21,
   "outputs":[
    {
     "data":{
      "text\/html":[
       "<div>\n",
       "<style scoped>\n",
       "    .dataframe tbody tr th:only-of-type {\n",
       "        vertical-align: middle;\n",
       "    }\n",
       "\n",
       "    .dataframe tbody tr th {\n",
       "        vertical-align: top;\n",
       "    }\n",
       "\n",
       "    .dataframe thead th {\n",
       "        text-align: right;\n",
       "    }\n",
       "<\/style>\n",
       "<table border=\"1\" class=\"dataframe\">\n",
       "  <thead>\n",
       "    <tr style=\"text-align: right;\">\n",
       "      <th><\/th>\n",
       "      <th>Typematch<\/th>\n",
       "      <th>lb<\/th>\n",
       "      <th>ub<\/th>\n",
       "    <\/tr>\n",
       "  <\/thead>\n",
       "  <tbody>\n",
       "    <tr>\n",
       "      <th>0<\/th>\n",
       "      <td>Friendly<\/td>\n",
       "      <td>0.229536<\/td>\n",
       "      <td>0.405978<\/td>\n",
       "    <\/tr>\n",
       "    <tr>\n",
       "      <th>1<\/th>\n",
       "      <td>Official<\/td>\n",
       "      <td>0.144067<\/td>\n",
       "      <td>0.233037<\/td>\n",
       "    <\/tr>\n",
       "  <\/tbody>\n",
       "<\/table>\n",
       "<\/div>"
      ]
     },
     "metadata":{
      
     },
     "output_type":"display_data"
    }
   ],
   "metadata":{
    "datalore":{
     "type":"CODE",
     "hide_input_from_viewers":false,
     "hide_output_from_viewers":false
    }
   }
  },
  {
   "cell_type":"code",
   "source":[
    "# Scotland is more likely to win friendly games\n",
    "for lb,ub,y in zip(df_ci['lb'],df_ci['ub'],range(len(df_ci))):\n",
    " plt.plot((lb,ub),(y,y),'ro-')\n",
    "plt.yticks(range(len(df_ci)),list(df_ci['Typematch']))"
   ],
   "execution_count":22,
   "outputs":[
    {
     "data":{
      "text\/plain":[
       "([<matplotlib.axis.YTick at 0x7f203dff6340>,\n",
       "  <matplotlib.axis.YTick at 0x7f203dfe6e50>],\n",
       " [Text(0, 0, 'Friendly'), Text(0, 1, 'Official')])"
      ],
      "image\/png":"[encoded data removed]"
     },
     "metadata":{
      "image\/png":{
       
      }
     },
     "output_type":"display_data"
    }
   ],
   "metadata":{
    "datalore":{
     "type":"CODE",
     "hide_input_from_viewers":false,
     "hide_output_from_viewers":false
    }
   }
  },
  {
   "cell_type":"code",
   "source":[
    "dfscot['home']=(dfscot['home_team']=='Scotland')\n",
    "x=pd.crosstab(dfscot['home'],dfscot['result'],margins=True)\n",
    "x"
   ],
   "execution_count":23,
   "outputs":[
    {
     "name":"stderr",
     "text":[
      "<ipython-input-23-2be3ed375790>:1: SettingWithCopyWarning: \n",
      "A value is trying to be set on a copy of a slice from a DataFrame.\n",
      "Try using .loc[row_indexer,col_indexer] = value instead\n",
      "\n",
      "See the caveats in the documentation: https:\/\/pandas.pydata.org\/pandas-docs\/stable\/user_guide\/indexing.html#returning-a-view-versus-a-copy\n",
      "  dfscot['home']=(dfscot['home_team']=='Scotland')\n"
     ],
     "output_type":"stream"
    },
    {
     "data":{
      "text\/html":[
       "<div>\n",
       "<style scoped>\n",
       "    .dataframe tbody tr th:only-of-type {\n",
       "        vertical-align: middle;\n",
       "    }\n",
       "\n",
       "    .dataframe tbody tr th {\n",
       "        vertical-align: top;\n",
       "    }\n",
       "\n",
       "    .dataframe thead th {\n",
       "        text-align: right;\n",
       "    }\n",
       "<\/style>\n",
       "<table border=\"1\" class=\"dataframe\">\n",
       "  <thead>\n",
       "    <tr style=\"text-align: right;\">\n",
       "      <th>result<\/th>\n",
       "      <th>draw<\/th>\n",
       "      <th>lose<\/th>\n",
       "      <th>win<\/th>\n",
       "      <th>All<\/th>\n",
       "    <\/tr>\n",
       "    <tr>\n",
       "      <th>home<\/th>\n",
       "      <th><\/th>\n",
       "      <th><\/th>\n",
       "      <th><\/th>\n",
       "      <th><\/th>\n",
       "    <\/tr>\n",
       "  <\/thead>\n",
       "  <tbody>\n",
       "    <tr>\n",
       "      <th>False<\/th>\n",
       "      <td>6<\/td>\n",
       "      <td>14<\/td>\n",
       "      <td>8<\/td>\n",
       "      <td>28<\/td>\n",
       "    <\/tr>\n",
       "    <tr>\n",
       "      <th>True<\/th>\n",
       "      <td>77<\/td>\n",
       "      <td>217<\/td>\n",
       "      <td>82<\/td>\n",
       "      <td>376<\/td>\n",
       "    <\/tr>\n",
       "    <tr>\n",
       "      <th>All<\/th>\n",
       "      <td>83<\/td>\n",
       "      <td>231<\/td>\n",
       "      <td>90<\/td>\n",
       "      <td>404<\/td>\n",
       "    <\/tr>\n",
       "  <\/tbody>\n",
       "<\/table>\n",
       "<\/div>"
      ]
     },
     "metadata":{
      
     },
     "output_type":"display_data"
    }
   ],
   "metadata":{
    "datalore":{
     "type":"CODE",
     "hide_input_from_viewers":false,
     "hide_output_from_viewers":false
    }
   }
  },
  {
   "cell_type":"code",
   "source":[
    "x=np.array(x)\n",
    "CI_scotwin_home=proportion_confint(count=x[1,2],nobs=x[1,3],alpha=(1-.95))\n",
    "CI_scotwin_home"
   ],
   "execution_count":24,
   "outputs":[
    {
     "data":{
      "text\/plain":[
       "(0.17634563783879345, 0.25982457492716404)"
      ]
     },
     "metadata":{
      
     },
     "output_type":"display_data"
    }
   ],
   "metadata":{
    "datalore":{
     "type":"CODE",
     "hide_input_from_viewers":false,
     "hide_output_from_viewers":false
    }
   }
  },
  {
   "cell_type":"code",
   "source":[
    "CI_scotwin_away=proportion_confint(count=x[0,2],nobs=x[0,3],alpha=(1-.95))\n",
    "CI_scotwin_away"
   ],
   "execution_count":25,
   "outputs":[
    {
     "data":{
      "text\/plain":[
       "(0.11838535517233528, 0.4530432162562361)"
      ]
     },
     "metadata":{
      
     },
     "output_type":"display_data"
    }
   ],
   "metadata":{
    "datalore":{
     "type":"CODE",
     "hide_input_from_viewers":false,
     "hide_output_from_viewers":false
    }
   }
  },
  {
   "cell_type":"code",
   "source":[
    "ci_scotwin = {}\n",
    "ci_scotwin['home'] = ['Yes','No']\n",
    "ci_scotwin['lb'] = [CI_scotwin_home[0],CI_scotwin_away[0]]\n",
    "ci_scotwin['ub'] = [CI_scotwin_home[1],CI_scotwin_away[1]]\n",
    "df_ci= pd.DataFrame(ci_scotwin)\n",
    "df_ci"
   ],
   "execution_count":26,
   "outputs":[
    {
     "data":{
      "text\/html":[
       "<div>\n",
       "<style scoped>\n",
       "    .dataframe tbody tr th:only-of-type {\n",
       "        vertical-align: middle;\n",
       "    }\n",
       "\n",
       "    .dataframe tbody tr th {\n",
       "        vertical-align: top;\n",
       "    }\n",
       "\n",
       "    .dataframe thead th {\n",
       "        text-align: right;\n",
       "    }\n",
       "<\/style>\n",
       "<table border=\"1\" class=\"dataframe\">\n",
       "  <thead>\n",
       "    <tr style=\"text-align: right;\">\n",
       "      <th><\/th>\n",
       "      <th>home<\/th>\n",
       "      <th>lb<\/th>\n",
       "      <th>ub<\/th>\n",
       "    <\/tr>\n",
       "  <\/thead>\n",
       "  <tbody>\n",
       "    <tr>\n",
       "      <th>0<\/th>\n",
       "      <td>Yes<\/td>\n",
       "      <td>0.176346<\/td>\n",
       "      <td>0.259825<\/td>\n",
       "    <\/tr>\n",
       "    <tr>\n",
       "      <th>1<\/th>\n",
       "      <td>No<\/td>\n",
       "      <td>0.118385<\/td>\n",
       "      <td>0.453043<\/td>\n",
       "    <\/tr>\n",
       "  <\/tbody>\n",
       "<\/table>\n",
       "<\/div>"
      ]
     },
     "metadata":{
      
     },
     "output_type":"display_data"
    }
   ],
   "metadata":{
    "datalore":{
     "type":"CODE",
     "hide_input_from_viewers":false,
     "hide_output_from_viewers":false
    }
   }
  },
  {
   "cell_type":"code",
   "source":[
    "# for the away games it is hard to predict the results as the confidence interval is really wide\n",
    "# however for home games they are not very good\n",
    "for lb,ub,y in zip(df_ci['lb'],df_ci['ub'],range(len(df_ci))):\n",
    " plt.plot((lb,ub),(y,y),'ro-')\n",
    "plt.yticks(range(len(df_ci)),list(df_ci['home']))"
   ],
   "execution_count":27,
   "outputs":[
    {
     "data":{
      "text\/plain":[
       "([<matplotlib.axis.YTick at 0x7f203dcfa3d0>,\n",
       "  <matplotlib.axis.YTick at 0x7f203dcf3c10>],\n",
       " [Text(0, 0, 'Yes'), Text(0, 1, 'No')])"
      ],
      "image\/png":"[encoded data removed]"
     },
     "metadata":{
      "image\/png":{
       
      }
     },
     "output_type":"display_data"
    }
   ],
   "metadata":{
    "datalore":{
     "type":"CODE",
     "hide_input_from_viewers":false,
     "hide_output_from_viewers":false
    }
   }
  },
  {
   "cell_type":"code",
   "source":[
    "(df['country']=='France').value_counts()"
   ],
   "execution_count":28,
   "outputs":[
    {
     "data":{
      "text\/html":[
       
      ]
     },
     "metadata":{
      
     },
     "output_type":"display_data"
    }
   ],
   "metadata":{
    "datalore":{
     "type":"CODE",
     "hide_input_from_viewers":false,
     "hide_output_from_viewers":false
    }
   }
  },
  {
   "cell_type":"code",
   "source":[
    "dffra=df[df['country']=='France']\n",
    "conditions = [\n",
    " (dffra['tournament']=='Friendly'),\n",
    " (dffra['tournament']!='Friendly')\n",
    " ]\n",
    "values=['Friendly','official']"
   ],
   "execution_count":29,
   "outputs":[
    
   ],
   "metadata":{
    "datalore":{
     "type":"CODE",
     "hide_input_from_viewers":false,
     "hide_output_from_viewers":false
    }
   }
  },
  {
   "cell_type":"code",
   "source":[
    "dffra['typematch'] = np.select(conditions, values)\n",
    "dffra['typematch'].value_counts()\n",
    "x=pd.crosstab(dffra['typematch'],dffra['result'],margins=True)\n",
    "x=np.array(x)\n",
    "CI_frawin_friendly=proportion_confint(count=x[0,2],nobs=x[0,3],alpha=(1-.95))\n",
    "CI_frawin_friendly"
   ],
   "execution_count":30,
   "outputs":[
    {
     "name":"stderr",
     "text":[
      "<ipython-input-30-711aa00e2932>:1: SettingWithCopyWarning: \n",
      "A value is trying to be set on a copy of a slice from a DataFrame.\n",
      "Try using .loc[row_indexer,col_indexer] = value instead\n",
      "\n",
      "See the caveats in the documentation: https:\/\/pandas.pydata.org\/pandas-docs\/stable\/user_guide\/indexing.html#returning-a-view-versus-a-copy\n",
      "  dffra['typematch'] = np.select(conditions, values)\n"
     ],
     "output_type":"stream"
    },
    {
     "data":{
      "text\/plain":[
       "(0.2376654895121334, 0.3185977801269324)"
      ]
     },
     "metadata":{
      
     },
     "output_type":"display_data"
    }
   ],
   "metadata":{
    "datalore":{
     "type":"CODE",
     "hide_input_from_viewers":false,
     "hide_output_from_viewers":false
    }
   }
  },
  {
   "cell_type":"code",
   "source":[
    "CI_frawin_official=proportion_confint(count=x[1,2],nobs=x[1,3],alpha=(\n",
    "1-.95))\n",
    "CI_frawin_official"
   ],
   "execution_count":31,
   "outputs":[
    {
     "data":{
      "text\/plain":[
       "(0.18892148425887595, 0.27793730536648426)"
      ]
     },
     "metadata":{
      
     },
     "output_type":"display_data"
    }
   ],
   "metadata":{
    "datalore":{
     "type":"CODE",
     "hide_input_from_viewers":false,
     "hide_output_from_viewers":false
    }
   }
  },
  {
   "cell_type":"code",
   "source":[
    "ci_frawin = {}\n",
    "ci_frawin['Typematch'] = ['Friendly','Official']\n",
    "ci_frawin['lb'] = [CI_frawin_friendly[0],CI_frawin_official[0]]\n",
    "ci_frawin['ub'] = [CI_frawin_friendly[1],CI_frawin_official[1]]\n",
    "df_ci= pd.DataFrame(ci_frawin)\n",
    "df_ci"
   ],
   "execution_count":32,
   "outputs":[
    {
     "data":{
      "text\/html":[
       "<div>\n",
       "<style scoped>\n",
       "    .dataframe tbody tr th:only-of-type {\n",
       "        vertical-align: middle;\n",
       "    }\n",
       "\n",
       "    .dataframe tbody tr th {\n",
       "        vertical-align: top;\n",
       "    }\n",
       "\n",
       "    .dataframe thead th {\n",
       "        text-align: right;\n",
       "    }\n",
       "<\/style>\n",
       "<table border=\"1\" class=\"dataframe\">\n",
       "  <thead>\n",
       "    <tr style=\"text-align: right;\">\n",
       "      <th><\/th>\n",
       "      <th>Typematch<\/th>\n",
       "      <th>lb<\/th>\n",
       "      <th>ub<\/th>\n",
       "    <\/tr>\n",
       "  <\/thead>\n",
       "  <tbody>\n",
       "    <tr>\n",
       "      <th>0<\/th>\n",
       "      <td>Friendly<\/td>\n",
       "      <td>0.237665<\/td>\n",
       "      <td>0.318598<\/td>\n",
       "    <\/tr>\n",
       "    <tr>\n",
       "      <th>1<\/th>\n",
       "      <td>Official<\/td>\n",
       "      <td>0.188921<\/td>\n",
       "      <td>0.277937<\/td>\n",
       "    <\/tr>\n",
       "  <\/tbody>\n",
       "<\/table>\n",
       "<\/div>"
      ]
     },
     "metadata":{
      
     },
     "output_type":"display_data"
    }
   ],
   "metadata":{
    "datalore":{
     "type":"CODE",
     "hide_input_from_viewers":false,
     "hide_output_from_viewers":false
    }
   }
  },
  {
   "cell_type":"code",
   "source":[
    "# france also seem to be winning more in friendlies\n",
    "for lb,ub,y in zip(df_ci['lb'],df_ci['ub'],range(len(df_ci))):\n",
    " plt.plot((lb,ub),(y,y),'ro-')\n",
    "plt.yticks(range(len(df_ci)),list(df_ci['Typematch']))"
   ],
   "execution_count":33,
   "outputs":[
    {
     "data":{
      "text\/plain":[
       "([<matplotlib.axis.YTick at 0x7f203dc687f0>,\n",
       "  <matplotlib.axis.YTick at 0x7f203dc68070>],\n",
       " [Text(0, 0, 'Friendly'), Text(0, 1, 'Official')])"
      ],
      "image\/png":"[encoded data removed]"
     },
     "metadata":{
      "image\/png":{
       
      }
     },
     "output_type":"display_data"
    }
   ],
   "metadata":{
    "datalore":{
     "type":"CODE",
     "hide_input_from_viewers":false,
     "hide_output_from_viewers":false
    }
   }
  },
  {
   "cell_type":"code",
   "source":[
    "dffra['home']=(dffra['home_team']=='France')\n",
    "x=pd.crosstab(dffra['home'],dffra['result'],margins=True)\n",
    "x"
   ],
   "execution_count":34,
   "outputs":[
    {
     "name":"stderr",
     "text":[
      "<ipython-input-34-b2357d1a8412>:1: SettingWithCopyWarning: \n",
      "A value is trying to be set on a copy of a slice from a DataFrame.\n",
      "Try using .loc[row_indexer,col_indexer] = value instead\n",
      "\n",
      "See the caveats in the documentation: https:\/\/pandas.pydata.org\/pandas-docs\/stable\/user_guide\/indexing.html#returning-a-view-versus-a-copy\n",
      "  dffra['home']=(dffra['home_team']=='France')\n"
     ],
     "output_type":"stream"
    },
    {
     "data":{
      "text\/html":[
       "<div>\n",
       "<style scoped>\n",
       "    .dataframe tbody tr th:only-of-type {\n",
       "        vertical-align: middle;\n",
       "    }\n",
       "\n",
       "    .dataframe tbody tr th {\n",
       "        vertical-align: top;\n",
       "    }\n",
       "\n",
       "    .dataframe thead th {\n",
       "        text-align: right;\n",
       "    }\n",
       "<\/style>\n",
       "<table border=\"1\" class=\"dataframe\">\n",
       "  <thead>\n",
       "    <tr style=\"text-align: right;\">\n",
       "      <th>result<\/th>\n",
       "      <th>draw<\/th>\n",
       "      <th>lose<\/th>\n",
       "      <th>win<\/th>\n",
       "      <th>All<\/th>\n",
       "    <\/tr>\n",
       "    <tr>\n",
       "      <th>home<\/th>\n",
       "      <th><\/th>\n",
       "      <th><\/th>\n",
       "      <th><\/th>\n",
       "      <th><\/th>\n",
       "    <\/tr>\n",
       "  <\/thead>\n",
       "  <tbody>\n",
       "    <tr>\n",
       "      <th>False<\/th>\n",
       "      <td>100<\/td>\n",
       "      <td>157<\/td>\n",
       "      <td>118<\/td>\n",
       "      <td>375<\/td>\n",
       "    <\/tr>\n",
       "    <tr>\n",
       "      <th>True<\/th>\n",
       "      <td>89<\/td>\n",
       "      <td>260<\/td>\n",
       "      <td>94<\/td>\n",
       "      <td>443<\/td>\n",
       "    <\/tr>\n",
       "    <tr>\n",
       "      <th>All<\/th>\n",
       "      <td>189<\/td>\n",
       "      <td>417<\/td>\n",
       "      <td>212<\/td>\n",
       "      <td>818<\/td>\n",
       "    <\/tr>\n",
       "  <\/tbody>\n",
       "<\/table>\n",
       "<\/div>"
      ]
     },
     "metadata":{
      
     },
     "output_type":"display_data"
    }
   ],
   "metadata":{
    "datalore":{
     "type":"CODE",
     "hide_input_from_viewers":false,
     "hide_output_from_viewers":false
    }
   }
  },
  {
   "cell_type":"code",
   "source":[
    "x=np.array(x)\n",
    "CI_frawin_home=proportion_confint(count=x[1,2],nobs=x[1,3],alpha=(1-.95))\n",
    "CI_frawin_home"
   ],
   "execution_count":35,
   "outputs":[
    {
     "data":{
      "text\/plain":[
       "(0.17411643713822142, 0.2502627953674219)"
      ]
     },
     "metadata":{
      
     },
     "output_type":"display_data"
    }
   ],
   "metadata":{
    "datalore":{
     "type":"CODE",
     "hide_input_from_viewers":false,
     "hide_output_from_viewers":false
    }
   }
  },
  {
   "cell_type":"code",
   "source":[
    "CI_frawin_away=proportion_confint(count=x[0,2],nobs=x[0,3],alpha=(1-.95))\n",
    "CI_frawin_away"
   ],
   "execution_count":36,
   "outputs":[
    {
     "data":{
      "text\/plain":[
       "(0.2676654873825878, 0.3616678459507455)"
      ]
     },
     "metadata":{
      
     },
     "output_type":"display_data"
    }
   ],
   "metadata":{
    "datalore":{
     "type":"CODE",
     "hide_input_from_viewers":false,
     "hide_output_from_viewers":false
    }
   }
  },
  {
   "cell_type":"code",
   "source":[
    "ci_frawin = {}\n",
    "ci_frawin['home'] = ['Yes','No']\n",
    "ci_frawin['lb'] = [CI_frawin_home[0],CI_frawin_away[0]]\n",
    "ci_frawin['ub'] = [CI_frawin_home[1],CI_frawin_away[1]]\n",
    "df_ci= pd.DataFrame(ci_frawin)\n",
    "df_ci"
   ],
   "execution_count":37,
   "outputs":[
    {
     "data":{
      "text\/html":[
       "<div>\n",
       "<style scoped>\n",
       "    .dataframe tbody tr th:only-of-type {\n",
       "        vertical-align: middle;\n",
       "    }\n",
       "\n",
       "    .dataframe tbody tr th {\n",
       "        vertical-align: top;\n",
       "    }\n",
       "\n",
       "    .dataframe thead th {\n",
       "        text-align: right;\n",
       "    }\n",
       "<\/style>\n",
       "<table border=\"1\" class=\"dataframe\">\n",
       "  <thead>\n",
       "    <tr style=\"text-align: right;\">\n",
       "      <th><\/th>\n",
       "      <th>home<\/th>\n",
       "      <th>lb<\/th>\n",
       "      <th>ub<\/th>\n",
       "    <\/tr>\n",
       "  <\/thead>\n",
       "  <tbody>\n",
       "    <tr>\n",
       "      <th>0<\/th>\n",
       "      <td>Yes<\/td>\n",
       "      <td>0.174116<\/td>\n",
       "      <td>0.250263<\/td>\n",
       "    <\/tr>\n",
       "    <tr>\n",
       "      <th>1<\/th>\n",
       "      <td>No<\/td>\n",
       "      <td>0.267665<\/td>\n",
       "      <td>0.361668<\/td>\n",
       "    <\/tr>\n",
       "  <\/tbody>\n",
       "<\/table>\n",
       "<\/div>"
      ]
     },
     "metadata":{
      
     },
     "output_type":"display_data"
    }
   ],
   "metadata":{
    "datalore":{
     "type":"CODE",
     "hide_input_from_viewers":false,
     "hide_output_from_viewers":false
    }
   }
  },
  {
   "cell_type":"code",
   "source":[
    "#france are winning more away game\n",
    "for lb,ub,y in zip(df_ci['lb'],df_ci['ub'],range(len(df_ci))):\n",
    " plt.plot((lb,ub),(y,y),'ro-')\n",
    "plt.yticks(range(len(df_ci)),list(df_ci['home']))"
   ],
   "execution_count":38,
   "outputs":[
    {
     "data":{
      "text\/plain":[
       "([<matplotlib.axis.YTick at 0x7f203dc4aaf0>,\n",
       "  <matplotlib.axis.YTick at 0x7f203dc4a370>],\n",
       " [Text(0, 0, 'Yes'), Text(0, 1, 'No')])"
      ],
      "image\/png":"[encoded data removed]"
     },
     "metadata":{
      "image\/png":{
       
      }
     },
     "output_type":"display_data"
    }
   ],
   "metadata":{
    "datalore":{
     "type":"CODE",
     "hide_input_from_viewers":false,
     "hide_output_from_viewers":false
    }
   }
  },
  {
   "cell_type":"code",
   "source":[
    "(df['country']=='England').value_counts()"
   ],
   "execution_count":39,
   "outputs":[
    {
     "data":{
      "text\/html":[
       
      ]
     },
     "metadata":{
      
     },
     "output_type":"display_data"
    }
   ],
   "metadata":{
    "datalore":{
     "type":"CODE",
     "hide_input_from_viewers":false,
     "hide_output_from_viewers":false
    }
   }
  },
  {
   "cell_type":"code",
   "source":[
    "dfeng=df[df['country']=='England']\n",
    "conditions = [\n",
    " (dfeng['tournament']=='Friendly'),\n",
    " (dfeng['tournament']!='Friendly')\n",
    " ]\n",
    "values=['Friendly','official']\n"
   ],
   "execution_count":40,
   "outputs":[
    
   ],
   "metadata":{
    "datalore":{
     "type":"CODE",
     "hide_input_from_viewers":false,
     "hide_output_from_viewers":false
    }
   }
  },
  {
   "cell_type":"code",
   "source":[
    "dfeng['typematch'] = np.select(conditions, values)\n",
    "dfeng['typematch'].value_counts()\n",
    "x=pd.crosstab(dfeng['typematch'],dfeng['result'],margins=True)\n",
    "x=np.array(x)\n",
    "CI_engwin_friendly=proportion_confint(count=x[0,2],nobs=x[0,3],alpha=(1-.95))\n",
    "CI_engwin_friendly"
   ],
   "execution_count":41,
   "outputs":[
    {
     "name":"stderr",
     "text":[
      "<ipython-input-41-f33be20f9540>:1: SettingWithCopyWarning: \n",
      "A value is trying to be set on a copy of a slice from a DataFrame.\n",
      "Try using .loc[row_indexer,col_indexer] = value instead\n",
      "\n",
      "See the caveats in the documentation: https:\/\/pandas.pydata.org\/pandas-docs\/stable\/user_guide\/indexing.html#returning-a-view-versus-a-copy\n",
      "  dfeng['typematch'] = np.select(conditions, values)\n"
     ],
     "output_type":"stream"
    },
    {
     "data":{
      "text\/plain":[
       "(0.15619778812633506, 0.24939661746807051)"
      ]
     },
     "metadata":{
      
     },
     "output_type":"display_data"
    }
   ],
   "metadata":{
    "datalore":{
     "type":"CODE",
     "hide_input_from_viewers":false,
     "hide_output_from_viewers":false
    }
   }
  },
  {
   "cell_type":"code",
   "source":[
    "CI_engwin_official=proportion_confint(count=x[1,2],nobs=x[1,3],alpha=(\n",
    "1-.95))\n",
    "CI_engwin_official"
   ],
   "execution_count":42,
   "outputs":[
    {
     "data":{
      "text\/plain":[
       "(0.1661205581281346, 0.24223211008532247)"
      ]
     },
     "metadata":{
      
     },
     "output_type":"display_data"
    }
   ],
   "metadata":{
    "datalore":{
     "type":"CODE",
     "hide_input_from_viewers":false,
     "hide_output_from_viewers":false
    }
   }
  },
  {
   "cell_type":"code",
   "source":[
    "ci_engwin = {}\n",
    "ci_engwin['Typematch'] = ['Friendly','Official']\n",
    "ci_engwin['lb'] = [CI_engwin_friendly[0],CI_engwin_official[0]]\n",
    "ci_engwin['ub'] = [CI_engwin_friendly[1],CI_engwin_official[1]]\n",
    "df_ci= pd.DataFrame(ci_engwin)\n",
    "df_ci"
   ],
   "execution_count":43,
   "outputs":[
    {
     "data":{
      "text\/html":[
       "<div>\n",
       "<style scoped>\n",
       "    .dataframe tbody tr th:only-of-type {\n",
       "        vertical-align: middle;\n",
       "    }\n",
       "\n",
       "    .dataframe tbody tr th {\n",
       "        vertical-align: top;\n",
       "    }\n",
       "\n",
       "    .dataframe thead th {\n",
       "        text-align: right;\n",
       "    }\n",
       "<\/style>\n",
       "<table border=\"1\" class=\"dataframe\">\n",
       "  <thead>\n",
       "    <tr style=\"text-align: right;\">\n",
       "      <th><\/th>\n",
       "      <th>Typematch<\/th>\n",
       "      <th>lb<\/th>\n",
       "      <th>ub<\/th>\n",
       "    <\/tr>\n",
       "  <\/thead>\n",
       "  <tbody>\n",
       "    <tr>\n",
       "      <th>0<\/th>\n",
       "      <td>Friendly<\/td>\n",
       "      <td>0.156198<\/td>\n",
       "      <td>0.249397<\/td>\n",
       "    <\/tr>\n",
       "    <tr>\n",
       "      <th>1<\/th>\n",
       "      <td>Official<\/td>\n",
       "      <td>0.166121<\/td>\n",
       "      <td>0.242232<\/td>\n",
       "    <\/tr>\n",
       "  <\/tbody>\n",
       "<\/table>\n",
       "<\/div>"
      ]
     },
     "metadata":{
      
     },
     "output_type":"display_data"
    }
   ],
   "metadata":{
    "datalore":{
     "type":"CODE",
     "hide_input_from_viewers":false,
     "hide_output_from_viewers":false
    }
   }
  },
  {
   "cell_type":"code",
   "source":[
    "#wide reange of results for friendlies\n",
    "for lb,ub,y in zip(df_ci['lb'],df_ci['ub'],range(len(df_ci))):\n",
    " plt.plot((lb,ub),(y,y),'ro-')\n",
    "plt.yticks(range(len(df_ci)),list(df_ci['Typematch']))"
   ],
   "execution_count":44,
   "outputs":[
    {
     "data":{
      "text\/plain":[
       "([<matplotlib.axis.YTick at 0x7f203dbba640>,\n",
       "  <matplotlib.axis.YTick at 0x7f203dbae7c0>],\n",
       " [Text(0, 0, 'Friendly'), Text(0, 1, 'Official')])"
      ],
      "image\/png":"[encoded data removed]"
     },
     "metadata":{
      "image\/png":{
       
      }
     },
     "output_type":"display_data"
    }
   ],
   "metadata":{
    "datalore":{
     "type":"CODE",
     "hide_input_from_viewers":false,
     "hide_output_from_viewers":false
    }
   }
  },
  {
   "cell_type":"code",
   "source":[
    "dfeng['home']=(dfeng['home_team']=='England')\n",
    "x=pd.crosstab(dfeng['home'],dfeng['result'],margins=True)\n",
    "x"
   ],
   "execution_count":45,
   "outputs":[
    {
     "name":"stderr",
     "text":[
      "<ipython-input-45-30b3aa58419f>:1: SettingWithCopyWarning: \n",
      "A value is trying to be set on a copy of a slice from a DataFrame.\n",
      "Try using .loc[row_indexer,col_indexer] = value instead\n",
      "\n",
      "See the caveats in the documentation: https:\/\/pandas.pydata.org\/pandas-docs\/stable\/user_guide\/indexing.html#returning-a-view-versus-a-copy\n",
      "  dfeng['home']=(dfeng['home_team']=='England')\n"
     ],
     "output_type":"stream"
    },
    {
     "data":{
      "text\/html":[
       "<div>\n",
       "<style scoped>\n",
       "    .dataframe tbody tr th:only-of-type {\n",
       "        vertical-align: middle;\n",
       "    }\n",
       "\n",
       "    .dataframe tbody tr th {\n",
       "        vertical-align: top;\n",
       "    }\n",
       "\n",
       "    .dataframe thead th {\n",
       "        text-align: right;\n",
       "    }\n",
       "<\/style>\n",
       "<table border=\"1\" class=\"dataframe\">\n",
       "  <thead>\n",
       "    <tr style=\"text-align: right;\">\n",
       "      <th>result<\/th>\n",
       "      <th>draw<\/th>\n",
       "      <th>lose<\/th>\n",
       "      <th>win<\/th>\n",
       "      <th>All<\/th>\n",
       "    <\/tr>\n",
       "    <tr>\n",
       "      <th>home<\/th>\n",
       "      <th><\/th>\n",
       "      <th><\/th>\n",
       "      <th><\/th>\n",
       "      <th><\/th>\n",
       "    <\/tr>\n",
       "  <\/thead>\n",
       "  <tbody>\n",
       "    <tr>\n",
       "      <th>False<\/th>\n",
       "      <td>55<\/td>\n",
       "      <td>115<\/td>\n",
       "      <td>83<\/td>\n",
       "      <td>253<\/td>\n",
       "    <\/tr>\n",
       "    <tr>\n",
       "      <th>True<\/th>\n",
       "      <td>101<\/td>\n",
       "      <td>300<\/td>\n",
       "      <td>63<\/td>\n",
       "      <td>464<\/td>\n",
       "    <\/tr>\n",
       "    <tr>\n",
       "      <th>All<\/th>\n",
       "      <td>156<\/td>\n",
       "      <td>415<\/td>\n",
       "      <td>146<\/td>\n",
       "      <td>717<\/td>\n",
       "    <\/tr>\n",
       "  <\/tbody>\n",
       "<\/table>\n",
       "<\/div>"
      ]
     },
     "metadata":{
      
     },
     "output_type":"display_data"
    }
   ],
   "metadata":{
    "datalore":{
     "type":"CODE",
     "hide_input_from_viewers":false,
     "hide_output_from_viewers":false
    }
   }
  },
  {
   "cell_type":"code",
   "source":[
    "x=np.array(x)\n",
    "CI_engwin_home=proportion_confint(count=x[1,2],nobs=x[1,3],alpha=(1-.95))\n",
    "CI_engwin_home\n"
   ],
   "execution_count":46,
   "outputs":[
    {
     "data":{
      "text\/plain":[
       "(0.10460752863595074, 0.1669441955019803)"
      ]
     },
     "metadata":{
      
     },
     "output_type":"display_data"
    }
   ],
   "metadata":{
    "datalore":{
     "type":"CODE",
     "hide_input_from_viewers":false,
     "hide_output_from_viewers":false
    }
   }
  },
  {
   "cell_type":"code",
   "source":[
    "CI_engwin_away=proportion_confint(count=x[0,2],nobs=x[0,3],alpha=(1-.95))\n",
    "CI_engwin_away"
   ],
   "execution_count":47,
   "outputs":[
    {
     "data":{
      "text\/plain":[
       "(0.27020958414722984, 0.3859168980662089)"
      ]
     },
     "metadata":{
      
     },
     "output_type":"display_data"
    }
   ],
   "metadata":{
    "datalore":{
     "type":"CODE",
     "hide_input_from_viewers":false,
     "hide_output_from_viewers":false
    }
   }
  },
  {
   "cell_type":"code",
   "source":[
    "ci_engwin = {}\n",
    "ci_engwin['home'] = ['Yes','No']\n",
    "ci_engwin['lb'] = [CI_engwin_home[0],CI_engwin_away[0]]\n",
    "ci_engwin['ub'] = [CI_engwin_home[1],CI_engwin_away[1]]\n",
    "df_ci= pd.DataFrame(ci_engwin)\n",
    "df_ci"
   ],
   "execution_count":48,
   "outputs":[
    {
     "data":{
      "text\/html":[
       "<div>\n",
       "<style scoped>\n",
       "    .dataframe tbody tr th:only-of-type {\n",
       "        vertical-align: middle;\n",
       "    }\n",
       "\n",
       "    .dataframe tbody tr th {\n",
       "        vertical-align: top;\n",
       "    }\n",
       "\n",
       "    .dataframe thead th {\n",
       "        text-align: right;\n",
       "    }\n",
       "<\/style>\n",
       "<table border=\"1\" class=\"dataframe\">\n",
       "  <thead>\n",
       "    <tr style=\"text-align: right;\">\n",
       "      <th><\/th>\n",
       "      <th>home<\/th>\n",
       "      <th>lb<\/th>\n",
       "      <th>ub<\/th>\n",
       "    <\/tr>\n",
       "  <\/thead>\n",
       "  <tbody>\n",
       "    <tr>\n",
       "      <th>0<\/th>\n",
       "      <td>Yes<\/td>\n",
       "      <td>0.104608<\/td>\n",
       "      <td>0.166944<\/td>\n",
       "    <\/tr>\n",
       "    <tr>\n",
       "      <th>1<\/th>\n",
       "      <td>No<\/td>\n",
       "      <td>0.270210<\/td>\n",
       "      <td>0.385917<\/td>\n",
       "    <\/tr>\n",
       "  <\/tbody>\n",
       "<\/table>\n",
       "<\/div>"
      ]
     },
     "metadata":{
      
     },
     "output_type":"display_data"
    }
   ],
   "metadata":{
    "datalore":{
     "type":"CODE",
     "hide_input_from_viewers":false,
     "hide_output_from_viewers":false
    }
   }
  },
  {
   "cell_type":"code",
   "source":[
    "#more likely to win away than home games\n",
    "for lb,ub,y in zip(df_ci['lb'],df_ci['ub'],range(len(df_ci))):\n",
    " plt.plot((lb,ub),(y,y),'ro-')\n",
    "plt.yticks(range(len(df_ci)),list(df_ci['home']))"
   ],
   "execution_count":49,
   "outputs":[
    {
     "data":{
      "text\/plain":[
       "([<matplotlib.axis.YTick at 0x7f203db92b80>,\n",
       "  <matplotlib.axis.YTick at 0x7f203db92400>],\n",
       " [Text(0, 0, 'Yes'), Text(0, 1, 'No')])"
      ],
      "image\/png":"[encoded data removed]"
     },
     "metadata":{
      "image\/png":{
       
      }
     },
     "output_type":"display_data"
    }
   ],
   "metadata":{
    "datalore":{
     "type":"CODE",
     "hide_input_from_viewers":false,
     "hide_output_from_viewers":false
    }
   }
  },
  {
   "cell_type":"code",
   "source":[
    "# to conclude we find that more stronger teams like england and france have a better chance of winning away games."
   ],
   "execution_count":50,
   "outputs":[
    
   ],
   "metadata":{
    "datalore":{
     "type":"CODE",
     "hide_input_from_viewers":false,
     "hide_output_from_viewers":false
    }
   }
  },
  {
   "cell_type":"code",
   "source":[
    "#part 2\n",
    "#in this part i looked at the overall number of covid cases in the world per month\n",
    "# then i started comparing 1st,2nd and third worlds on how sprea the virus is spread in the years 2020 and 2021\n",
    "# I used egypt for the third world, china for the 2md world, and the United kingdom for the first world"
   ],
   "execution_count":51,
   "outputs":[
    
   ],
   "metadata":{
    "datalore":{
     "type":"CODE",
     "hide_input_from_viewers":false,
     "hide_output_from_viewers":false
    }
   }
  },
  {
   "cell_type":"code",
   "source":[
    "df=pd.read_csv('covid_data.csv',encoding='latin-1')"
   ],
   "execution_count":52,
   "outputs":[
    
   ],
   "metadata":{
    "datalore":{
     "type":"CODE",
     "hide_input_from_viewers":false,
     "hide_output_from_viewers":false
    }
   }
  },
  {
   "cell_type":"code",
   "source":[
    "cats=['Jan', 'Feb',\n",
    "'Mar','Apr','May','Jun','Jul','Aug','Sep','Oct','Nov','Dec']\n",
    "cat_type = CategoricalDtype(categories=cats, ordered=True)\n",
    "df['month'] = df['month'].astype(cat_type)"
   ],
   "execution_count":53,
   "outputs":[
    
   ],
   "metadata":{
    "datalore":{
     "type":"CODE",
     "hide_input_from_viewers":false,
     "hide_output_from_viewers":false
    }
   }
  },
  {
   "cell_type":"code",
   "source":[
    "dfegy=df[df['country']=='Egypt']\n",
    "stats=dfegy.groupby(\"month\").agg({\"dcases\": [np.mean, np.std,\n",
    "np.size]})\n",
    "stats=pd.DataFrame(stats)"
   ],
   "execution_count":54,
   "outputs":[
    
   ],
   "metadata":{
    "datalore":{
     "type":"CODE",
     "hide_input_from_viewers":false,
     "hide_output_from_viewers":false
    }
   }
  },
  {
   "cell_type":"code",
   "source":[
    "stats.columns=['mean','std','size']\n",
    "stats.columns"
   ],
   "execution_count":55,
   "outputs":[
    {
     "data":{
      "text\/plain":[
       "Index(['mean', 'std', 'size'], dtype='object')"
      ]
     },
     "metadata":{
      
     },
     "output_type":"display_data"
    }
   ],
   "metadata":{
    "datalore":{
     "type":"CODE",
     "hide_input_from_viewers":false,
     "hide_output_from_viewers":false
    }
   }
  },
  {
   "cell_type":"code",
   "source":[
    "#i am calculating the lower confidence interval\n",
    "def get_ci_lb(x, alpha=0.05):\n",
    " sample_s=np.std(x)\n",
    " sample_mean=np.mean(x)\n",
    " sample_size=len(x)\n",
    " margin_of_error = t.ppf(1 - alpha\/2,sample_size-1)*sample_s\/np.sqrt(sample_size-1)\n",
    " return sample_mean - margin_of_error"
   ],
   "execution_count":56,
   "outputs":[
    
   ],
   "metadata":{
    "datalore":{
     "type":"CODE",
     "hide_input_from_viewers":false,
     "hide_output_from_viewers":false
    }
   }
  },
  {
   "cell_type":"code",
   "source":[
    "x=dfegy['dcases']\n",
    "get_ci_lb(x)"
   ],
   "execution_count":57,
   "outputs":[
    {
     "data":{
      "text\/plain":[
       "529.7945911276134"
      ]
     },
     "metadata":{
      
     },
     "output_type":"display_data"
    }
   ],
   "metadata":{
    "datalore":{
     "type":"CODE",
     "hide_input_from_viewers":false,
     "hide_output_from_viewers":false
    }
   }
  },
  {
   "cell_type":"code",
   "source":[
    "#i am calculating the upper confidence interval\n",
    "def get_ci_ub(x, alpha=0.05):\n",
    " sample_s=np.std(x)\n",
    " sample_mean=np.mean(x)\n",
    " sample_size=len(x)\n",
    " margin_of_error = t.ppf(1 - alpha\/2,sample_size-1)*sample_s\/np.sqrt(sample_size-1)\n",
    " return sample_mean + margin_of_error\n",
    "get_ci_ub(x)"
   ],
   "execution_count":58,
   "outputs":[
    {
     "data":{
      "text\/plain":[
       "592.6944918418188"
      ]
     },
     "metadata":{
      
     },
     "output_type":"display_data"
    }
   ],
   "metadata":{
    "datalore":{
     "type":"CODE",
     "hide_input_from_viewers":false,
     "hide_output_from_viewers":false
    }
   }
  },
  {
   "cell_type":"code",
   "source":[
    "ci_dcases=statsm=dfegy.groupby(\"month\").agg({\"dcases\": [np.mean,\n",
    "np.std, np.size,get_ci_lb,get_ci_ub]})\n",
    "statsm"
   ],
   "execution_count":59,
   "outputs":[
    {
     "data":{
      "text\/html":[
       "<div>\n",
       "<style scoped>\n",
       "    .dataframe tbody tr th:only-of-type {\n",
       "        vertical-align: middle;\n",
       "    }\n",
       "\n",
       "    .dataframe tbody tr th {\n",
       "        vertical-align: top;\n",
       "    }\n",
       "\n",
       "    .dataframe thead tr th {\n",
       "        text-align: left;\n",
       "    }\n",
       "\n",
       "    .dataframe thead tr:last-of-type th {\n",
       "        text-align: right;\n",
       "    }\n",
       "<\/style>\n",
       "<table border=\"1\" class=\"dataframe\">\n",
       "  <thead>\n",
       "    <tr>\n",
       "      <th><\/th>\n",
       "      <th colspan=\"5\" halign=\"left\">dcases<\/th>\n",
       "    <\/tr>\n",
       "    <tr>\n",
       "      <th><\/th>\n",
       "      <th>mean<\/th>\n",
       "      <th>std<\/th>\n",
       "      <th>size<\/th>\n",
       "      <th>get_ci_lb<\/th>\n",
       "      <th>get_ci_ub<\/th>\n",
       "    <\/tr>\n",
       "    <tr>\n",
       "      <th>month<\/th>\n",
       "      <th><\/th>\n",
       "      <th><\/th>\n",
       "      <th><\/th>\n",
       "      <th><\/th>\n",
       "      <th><\/th>\n",
       "    <\/tr>\n",
       "  <\/thead>\n",
       "  <tbody>\n",
       "    <tr>\n",
       "      <th>Jan<\/th>\n",
       "      <td>899.645161<\/td>\n",
       "      <td>251.335970<\/td>\n",
       "      <td>31<\/td>\n",
       "      <td>807.454383<\/td>\n",
       "      <td>991.835939<\/td>\n",
       "    <\/tr>\n",
       "    <tr>\n",
       "      <th>Feb<\/th>\n",
       "      <td>374.409091<\/td>\n",
       "      <td>288.087868<\/td>\n",
       "      <td>44<\/td>\n",
       "      <td>286.822374<\/td>\n",
       "      <td>461.995808<\/td>\n",
       "    <\/tr>\n",
       "    <tr>\n",
       "      <th>Mar<\/th>\n",
       "      <td>329.290323<\/td>\n",
       "      <td>310.292849<\/td>\n",
       "      <td>62<\/td>\n",
       "      <td>250.490694<\/td>\n",
       "      <td>408.089951<\/td>\n",
       "    <\/tr>\n",
       "    <tr>\n",
       "      <th>Apr<\/th>\n",
       "      <td>504.133333<\/td>\n",
       "      <td>354.246465<\/td>\n",
       "      <td>60<\/td>\n",
       "      <td>412.621768<\/td>\n",
       "      <td>595.644899<\/td>\n",
       "    <\/tr>\n",
       "    <tr>\n",
       "      <th>May<\/th>\n",
       "      <td>879.774194<\/td>\n",
       "      <td>346.475245<\/td>\n",
       "      <td>62<\/td>\n",
       "      <td>791.785956<\/td>\n",
       "      <td>967.762431<\/td>\n",
       "    <\/tr>\n",
       "    <tr>\n",
       "      <th>Jun<\/th>\n",
       "      <td>1032.633333<\/td>\n",
       "      <td>454.674216<\/td>\n",
       "      <td>60<\/td>\n",
       "      <td>915.178529<\/td>\n",
       "      <td>1150.088138<\/td>\n",
       "    <\/tr>\n",
       "    <tr>\n",
       "      <th>Jul<\/th>\n",
       "      <td>463.661290<\/td>\n",
       "      <td>437.595552<\/td>\n",
       "      <td>62<\/td>\n",
       "      <td>352.532828<\/td>\n",
       "      <td>574.789752<\/td>\n",
       "    <\/tr>\n",
       "    <tr>\n",
       "      <th>Aug<\/th>\n",
       "      <td>145.806452<\/td>\n",
       "      <td>60.683224<\/td>\n",
       "      <td>62<\/td>\n",
       "      <td>130.395798<\/td>\n",
       "      <td>161.217105<\/td>\n",
       "    <\/tr>\n",
       "    <tr>\n",
       "      <th>Sep<\/th>\n",
       "      <td>339.033333<\/td>\n",
       "      <td>225.855584<\/td>\n",
       "      <td>60<\/td>\n",
       "      <td>280.688649<\/td>\n",
       "      <td>397.378017<\/td>\n",
       "    <\/tr>\n",
       "    <tr>\n",
       "      <th>Oct<\/th>\n",
       "      <td>497.580645<\/td>\n",
       "      <td>362.321547<\/td>\n",
       "      <td>62<\/td>\n",
       "      <td>405.568201<\/td>\n",
       "      <td>589.593089<\/td>\n",
       "    <\/tr>\n",
       "    <tr>\n",
       "      <th>Nov<\/th>\n",
       "      <td>598.616667<\/td>\n",
       "      <td>370.082496<\/td>\n",
       "      <td>60<\/td>\n",
       "      <td>503.014220<\/td>\n",
       "      <td>694.219113<\/td>\n",
       "    <\/tr>\n",
       "    <tr>\n",
       "      <th>Dec<\/th>\n",
       "      <td>792.709677<\/td>\n",
       "      <td>300.346870<\/td>\n",
       "      <td>62<\/td>\n",
       "      <td>716.435854<\/td>\n",
       "      <td>868.983501<\/td>\n",
       "    <\/tr>\n",
       "  <\/tbody>\n",
       "<\/table>\n",
       "<\/div>"
      ]
     },
     "metadata":{
      
     },
     "output_type":"display_data"
    }
   ],
   "metadata":{
    "datalore":{
     "type":"CODE",
     "hide_input_from_viewers":false,
     "hide_output_from_viewers":false
    }
   }
  },
  {
   "cell_type":"code",
   "source":[
    "#organized the data in the table\n",
    "statsm.columns=['mean','std','size','lb','ub']\n",
    "statsm['month']=statsm.index\n",
    "statsm"
   ],
   "execution_count":60,
   "outputs":[
    {
     "data":{
      "text\/html":[
       "<div>\n",
       "<style scoped>\n",
       "    .dataframe tbody tr th:only-of-type {\n",
       "        vertical-align: middle;\n",
       "    }\n",
       "\n",
       "    .dataframe tbody tr th {\n",
       "        vertical-align: top;\n",
       "    }\n",
       "\n",
       "    .dataframe thead th {\n",
       "        text-align: right;\n",
       "    }\n",
       "<\/style>\n",
       "<table border=\"1\" class=\"dataframe\">\n",
       "  <thead>\n",
       "    <tr style=\"text-align: right;\">\n",
       "      <th><\/th>\n",
       "      <th>mean<\/th>\n",
       "      <th>std<\/th>\n",
       "      <th>size<\/th>\n",
       "      <th>lb<\/th>\n",
       "      <th>ub<\/th>\n",
       "      <th>month<\/th>\n",
       "    <\/tr>\n",
       "    <tr>\n",
       "      <th>month<\/th>\n",
       "      <th><\/th>\n",
       "      <th><\/th>\n",
       "      <th><\/th>\n",
       "      <th><\/th>\n",
       "      <th><\/th>\n",
       "      <th><\/th>\n",
       "    <\/tr>\n",
       "  <\/thead>\n",
       "  <tbody>\n",
       "    <tr>\n",
       "      <th>Jan<\/th>\n",
       "      <td>899.645161<\/td>\n",
       "      <td>251.335970<\/td>\n",
       "      <td>31<\/td>\n",
       "      <td>807.454383<\/td>\n",
       "      <td>991.835939<\/td>\n",
       "      <td>Jan<\/td>\n",
       "    <\/tr>\n",
       "    <tr>\n",
       "      <th>Feb<\/th>\n",
       "      <td>374.409091<\/td>\n",
       "      <td>288.087868<\/td>\n",
       "      <td>44<\/td>\n",
       "      <td>286.822374<\/td>\n",
       "      <td>461.995808<\/td>\n",
       "      <td>Feb<\/td>\n",
       "    <\/tr>\n",
       "    <tr>\n",
       "      <th>Mar<\/th>\n",
       "      <td>329.290323<\/td>\n",
       "      <td>310.292849<\/td>\n",
       "      <td>62<\/td>\n",
       "      <td>250.490694<\/td>\n",
       "      <td>408.089951<\/td>\n",
       "      <td>Mar<\/td>\n",
       "    <\/tr>\n",
       "    <tr>\n",
       "      <th>Apr<\/th>\n",
       "      <td>504.133333<\/td>\n",
       "      <td>354.246465<\/td>\n",
       "      <td>60<\/td>\n",
       "      <td>412.621768<\/td>\n",
       "      <td>595.644899<\/td>\n",
       "      <td>Apr<\/td>\n",
       "    <\/tr>\n",
       "    <tr>\n",
       "      <th>May<\/th>\n",
       "      <td>879.774194<\/td>\n",
       "      <td>346.475245<\/td>\n",
       "      <td>62<\/td>\n",
       "      <td>791.785956<\/td>\n",
       "      <td>967.762431<\/td>\n",
       "      <td>May<\/td>\n",
       "    <\/tr>\n",
       "    <tr>\n",
       "      <th>Jun<\/th>\n",
       "      <td>1032.633333<\/td>\n",
       "      <td>454.674216<\/td>\n",
       "      <td>60<\/td>\n",
       "      <td>915.178529<\/td>\n",
       "      <td>1150.088138<\/td>\n",
       "      <td>Jun<\/td>\n",
       "    <\/tr>\n",
       "    <tr>\n",
       "      <th>Jul<\/th>\n",
       "      <td>463.661290<\/td>\n",
       "      <td>437.595552<\/td>\n",
       "      <td>62<\/td>\n",
       "      <td>352.532828<\/td>\n",
       "      <td>574.789752<\/td>\n",
       "      <td>Jul<\/td>\n",
       "    <\/tr>\n",
       "    <tr>\n",
       "      <th>Aug<\/th>\n",
       "      <td>145.806452<\/td>\n",
       "      <td>60.683224<\/td>\n",
       "      <td>62<\/td>\n",
       "      <td>130.395798<\/td>\n",
       "      <td>161.217105<\/td>\n",
       "      <td>Aug<\/td>\n",
       "    <\/tr>\n",
       "    <tr>\n",
       "      <th>Sep<\/th>\n",
       "      <td>339.033333<\/td>\n",
       "      <td>225.855584<\/td>\n",
       "      <td>60<\/td>\n",
       "      <td>280.688649<\/td>\n",
       "      <td>397.378017<\/td>\n",
       "      <td>Sep<\/td>\n",
       "    <\/tr>\n",
       "    <tr>\n",
       "      <th>Oct<\/th>\n",
       "      <td>497.580645<\/td>\n",
       "      <td>362.321547<\/td>\n",
       "      <td>62<\/td>\n",
       "      <td>405.568201<\/td>\n",
       "      <td>589.593089<\/td>\n",
       "      <td>Oct<\/td>\n",
       "    <\/tr>\n",
       "    <tr>\n",
       "      <th>Nov<\/th>\n",
       "      <td>598.616667<\/td>\n",
       "      <td>370.082496<\/td>\n",
       "      <td>60<\/td>\n",
       "      <td>503.014220<\/td>\n",
       "      <td>694.219113<\/td>\n",
       "      <td>Nov<\/td>\n",
       "    <\/tr>\n",
       "    <tr>\n",
       "      <th>Dec<\/th>\n",
       "      <td>792.709677<\/td>\n",
       "      <td>300.346870<\/td>\n",
       "      <td>62<\/td>\n",
       "      <td>716.435854<\/td>\n",
       "      <td>868.983501<\/td>\n",
       "      <td>Dec<\/td>\n",
       "    <\/tr>\n",
       "  <\/tbody>\n",
       "<\/table>\n",
       "<\/div>"
      ]
     },
     "metadata":{
      
     },
     "output_type":"display_data"
    }
   ],
   "metadata":{
    "datalore":{
     "type":"CODE",
     "hide_input_from_viewers":false,
     "hide_output_from_viewers":false
    }
   }
  },
  {
   "cell_type":"code",
   "source":[
    "# we can see in the graph that in june covid cases peaked then went on a downward sprial than began to increase once again\n",
    "# this may have happened due to the lockdowns that were placed \n",
    "plt.plot( 'month', 'mean', data=statsm, marker='s', color='black',\n",
    "markersize=4, linewidth=1, linestyle='--')\n",
    "plt.plot( 'month', 'mean', data=statsm, marker='o', color='black',\n",
    "markersize=4, linewidth=1,linestyle='-')\n",
    "plt.xlabel(\"Month\")\n",
    "plt.ylabel(\"Average Daily COVID CASES\")\n",
    "plt.show()"
   ],
   "execution_count":61,
   "outputs":[
    {
     "data":{
      "image\/png":"[encoded data removed]"
     },
     "metadata":{
      "image\/png":{
       
      }
     },
     "output_type":"display_data"
    }
   ],
   "metadata":{
    "datalore":{
     "type":"CODE",
     "hide_input_from_viewers":false,
     "hide_output_from_viewers":false
    }
   }
  },
  {
   "cell_type":"code",
   "source":[
    "df['year'] = pd. DatetimeIndex(df['date']). year\n",
    "df['year'][0]"
   ],
   "execution_count":62,
   "outputs":[
    {
     "data":{
      "text\/plain":[
       "2020"
      ]
     },
     "metadata":{
      
     },
     "output_type":"display_data"
    }
   ],
   "metadata":{
    "datalore":{
     "type":"CODE",
     "hide_input_from_viewers":false,
     "hide_output_from_viewers":false
    }
   }
  },
  {
   "cell_type":"code",
   "source":[
    "statsdcases=df.groupby(['country','year','month']).agg({\"dcases\":[np.mean, np.std, np.size,get_ci_lb,get_ci_ub]})\n",
    "statsdcases"
   ],
   "execution_count":63,
   "outputs":[
    {
     "data":{
      "text\/html":[
       "<div>\n",
       "<style scoped>\n",
       "    .dataframe tbody tr th:only-of-type {\n",
       "        vertical-align: middle;\n",
       "    }\n",
       "\n",
       "    .dataframe tbody tr th {\n",
       "        vertical-align: top;\n",
       "    }\n",
       "\n",
       "    .dataframe thead tr th {\n",
       "        text-align: left;\n",
       "    }\n",
       "\n",
       "    .dataframe thead tr:last-of-type th {\n",
       "        text-align: right;\n",
       "    }\n",
       "<\/style>\n",
       "<table border=\"1\" class=\"dataframe\">\n",
       "  <thead>\n",
       "    <tr>\n",
       "      <th><\/th>\n",
       "      <th><\/th>\n",
       "      <th><\/th>\n",
       "      <th colspan=\"5\" halign=\"left\">dcases<\/th>\n",
       "    <\/tr>\n",
       "    <tr>\n",
       "      <th><\/th>\n",
       "      <th><\/th>\n",
       "      <th><\/th>\n",
       "      <th>mean<\/th>\n",
       "      <th>std<\/th>\n",
       "      <th>size<\/th>\n",
       "      <th>get_ci_lb<\/th>\n",
       "      <th>get_ci_ub<\/th>\n",
       "    <\/tr>\n",
       "    <tr>\n",
       "      <th>country<\/th>\n",
       "      <th>year<\/th>\n",
       "      <th>month<\/th>\n",
       "      <th><\/th>\n",
       "      <th><\/th>\n",
       "      <th><\/th>\n",
       "      <th><\/th>\n",
       "      <th><\/th>\n",
       "    <\/tr>\n",
       "  <\/thead>\n",
       "  <tbody>\n",
       "    <tr>\n",
       "      <th rowspan=\"5\" valign=\"top\">Afghanistan<\/th>\n",
       "      <th rowspan=\"5\" valign=\"top\">2020<\/th>\n",
       "      <th>Jan<\/th>\n",
       "      <td>NaN<\/td>\n",
       "      <td>NaN<\/td>\n",
       "      <td>NaN<\/td>\n",
       "      <td>NaN<\/td>\n",
       "      <td>NaN<\/td>\n",
       "    <\/tr>\n",
       "    <tr>\n",
       "      <th>Feb<\/th>\n",
       "      <td>0.833333<\/td>\n",
       "      <td>2.041241<\/td>\n",
       "      <td>6.0<\/td>\n",
       "      <td>-1.308818<\/td>\n",
       "      <td>2.975485<\/td>\n",
       "    <\/tr>\n",
       "    <tr>\n",
       "      <th>Mar<\/th>\n",
       "      <td>5.258065<\/td>\n",
       "      <td>10.871883<\/td>\n",
       "      <td>31.0<\/td>\n",
       "      <td>1.270225<\/td>\n",
       "      <td>9.245904<\/td>\n",
       "    <\/tr>\n",
       "    <tr>\n",
       "      <th>Apr<\/th>\n",
       "      <td>55.366667<\/td>\n",
       "      <td>40.385627<\/td>\n",
       "      <td>30.0<\/td>\n",
       "      <td>40.286426<\/td>\n",
       "      <td>70.446908<\/td>\n",
       "    <\/tr>\n",
       "    <tr>\n",
       "      <th>May<\/th>\n",
       "      <td>430.741935<\/td>\n",
       "      <td>266.692078<\/td>\n",
       "      <td>31.0<\/td>\n",
       "      <td>332.918491<\/td>\n",
       "      <td>528.565379<\/td>\n",
       "    <\/tr>\n",
       "    <tr>\n",
       "      <th>...<\/th>\n",
       "      <th>...<\/th>\n",
       "      <th>...<\/th>\n",
       "      <td>...<\/td>\n",
       "      <td>...<\/td>\n",
       "      <td>...<\/td>\n",
       "      <td>...<\/td>\n",
       "      <td>...<\/td>\n",
       "    <\/tr>\n",
       "    <tr>\n",
       "      <th rowspan=\"5\" valign=\"top\">Zimbabwe<\/th>\n",
       "      <th rowspan=\"5\" valign=\"top\">2021<\/th>\n",
       "      <th>Aug<\/th>\n",
       "      <td>513.322581<\/td>\n",
       "      <td>386.841948<\/td>\n",
       "      <td>31.0<\/td>\n",
       "      <td>371.427809<\/td>\n",
       "      <td>655.217353<\/td>\n",
       "    <\/tr>\n",
       "    <tr>\n",
       "      <th>Sep<\/th>\n",
       "      <td>201.566667<\/td>\n",
       "      <td>135.119789<\/td>\n",
       "      <td>30.0<\/td>\n",
       "      <td>151.112108<\/td>\n",
       "      <td>252.021225<\/td>\n",
       "    <\/tr>\n",
       "    <tr>\n",
       "      <th>Oct<\/th>\n",
       "      <td>69.580645<\/td>\n",
       "      <td>58.035492<\/td>\n",
       "      <td>31.0<\/td>\n",
       "      <td>48.293055<\/td>\n",
       "      <td>90.868235<\/td>\n",
       "    <\/tr>\n",
       "    <tr>\n",
       "      <th>Nov<\/th>\n",
       "      <td>54.933333<\/td>\n",
       "      <td>82.622087<\/td>\n",
       "      <td>30.0<\/td>\n",
       "      <td>24.081739<\/td>\n",
       "      <td>85.784928<\/td>\n",
       "    <\/tr>\n",
       "    <tr>\n",
       "      <th>Dec<\/th>\n",
       "      <td>2536.548387<\/td>\n",
       "      <td>2572.199964<\/td>\n",
       "      <td>31.0<\/td>\n",
       "      <td>1593.057823<\/td>\n",
       "      <td>3480.038951<\/td>\n",
       "    <\/tr>\n",
       "  <\/tbody>\n",
       "<\/table>\n",
       "<p>4488 rows × 5 columns<\/p>\n",
       "<\/div>"
      ]
     },
     "metadata":{
      
     },
     "output_type":"display_data"
    }
   ],
   "metadata":{
    "datalore":{
     "type":"CODE",
     "hide_input_from_viewers":false,
     "hide_output_from_viewers":false
    }
   }
  },
  {
   "cell_type":"code",
   "source":[
    "#filtering the stats to egypt only\n",
    "statsdcases=statsdcases.reset_index()\n",
    "statsEgy=statsdcases[(statsdcases['country']=='Egypt') &(statsdcases['year']==2021)]\n",
    "statsEgy"
   ],
   "execution_count":64,
   "outputs":[
    {
     "data":{
      "text\/html":[
       "<div>\n",
       "<style scoped>\n",
       "    .dataframe tbody tr th:only-of-type {\n",
       "        vertical-align: middle;\n",
       "    }\n",
       "\n",
       "    .dataframe tbody tr th {\n",
       "        vertical-align: top;\n",
       "    }\n",
       "\n",
       "    .dataframe thead tr th {\n",
       "        text-align: left;\n",
       "    }\n",
       "<\/style>\n",
       "<table border=\"1\" class=\"dataframe\">\n",
       "  <thead>\n",
       "    <tr>\n",
       "      <th><\/th>\n",
       "      <th>country<\/th>\n",
       "      <th>year<\/th>\n",
       "      <th>month<\/th>\n",
       "      <th colspan=\"5\" halign=\"left\">dcases<\/th>\n",
       "    <\/tr>\n",
       "    <tr>\n",
       "      <th><\/th>\n",
       "      <th><\/th>\n",
       "      <th><\/th>\n",
       "      <th><\/th>\n",
       "      <th>mean<\/th>\n",
       "      <th>std<\/th>\n",
       "      <th>size<\/th>\n",
       "      <th>get_ci_lb<\/th>\n",
       "      <th>get_ci_ub<\/th>\n",
       "    <\/tr>\n",
       "  <\/thead>\n",
       "  <tbody>\n",
       "    <tr>\n",
       "      <th>1236<\/th>\n",
       "      <td>Egypt<\/td>\n",
       "      <td>2021<\/td>\n",
       "      <td>Jan<\/td>\n",
       "      <td>899.645161<\/td>\n",
       "      <td>251.335970<\/td>\n",
       "      <td>31.0<\/td>\n",
       "      <td>807.454383<\/td>\n",
       "      <td>991.835939<\/td>\n",
       "    <\/tr>\n",
       "    <tr>\n",
       "      <th>1237<\/th>\n",
       "      <td>Egypt<\/td>\n",
       "      <td>2021<\/td>\n",
       "      <td>Feb<\/td>\n",
       "      <td>588.321429<\/td>\n",
       "      <td>40.989659<\/td>\n",
       "      <td>28.0<\/td>\n",
       "      <td>572.427298<\/td>\n",
       "      <td>604.215559<\/td>\n",
       "    <\/tr>\n",
       "    <tr>\n",
       "      <th>1238<\/th>\n",
       "      <td>Egypt<\/td>\n",
       "      <td>2021<\/td>\n",
       "      <td>Mar<\/td>\n",
       "      <td>635.709677<\/td>\n",
       "      <td>36.309038<\/td>\n",
       "      <td>31.0<\/td>\n",
       "      <td>622.391415<\/td>\n",
       "      <td>649.027940<\/td>\n",
       "    <\/tr>\n",
       "    <tr>\n",
       "      <th>1239<\/th>\n",
       "      <td>Egypt<\/td>\n",
       "      <td>2021<\/td>\n",
       "      <td>Apr<\/td>\n",
       "      <td>847.366667<\/td>\n",
       "      <td>92.416405<\/td>\n",
       "      <td>30.0<\/td>\n",
       "      <td>812.857814<\/td>\n",
       "      <td>881.875520<\/td>\n",
       "    <\/tr>\n",
       "    <tr>\n",
       "      <th>1240<\/th>\n",
       "      <td>Egypt<\/td>\n",
       "      <td>2021<\/td>\n",
       "      <td>May<\/td>\n",
       "      <td>1132.193548<\/td>\n",
       "      <td>55.087457<\/td>\n",
       "      <td>31.0<\/td>\n",
       "      <td>1111.987306<\/td>\n",
       "      <td>1152.399791<\/td>\n",
       "    <\/tr>\n",
       "    <tr>\n",
       "      <th>1241<\/th>\n",
       "      <td>Egypt<\/td>\n",
       "      <td>2021<\/td>\n",
       "      <td>Jun<\/td>\n",
       "      <td>621.066667<\/td>\n",
       "      <td>197.770841<\/td>\n",
       "      <td>30.0<\/td>\n",
       "      <td>547.217821<\/td>\n",
       "      <td>694.915513<\/td>\n",
       "    <\/tr>\n",
       "    <tr>\n",
       "      <th>1242<\/th>\n",
       "      <td>Egypt<\/td>\n",
       "      <td>2021<\/td>\n",
       "      <td>Jul<\/td>\n",
       "      <td>96.129032<\/td>\n",
       "      <td>61.659139<\/td>\n",
       "      <td>31.0<\/td>\n",
       "      <td>73.512277<\/td>\n",
       "      <td>118.745787<\/td>\n",
       "    <\/tr>\n",
       "    <tr>\n",
       "      <th>1243<\/th>\n",
       "      <td>Egypt<\/td>\n",
       "      <td>2021<\/td>\n",
       "      <td>Aug<\/td>\n",
       "      <td>134.806452<\/td>\n",
       "      <td>73.635326<\/td>\n",
       "      <td>31.0<\/td>\n",
       "      <td>107.796796<\/td>\n",
       "      <td>161.816107<\/td>\n",
       "    <\/tr>\n",
       "    <tr>\n",
       "      <th>1244<\/th>\n",
       "      <td>Egypt<\/td>\n",
       "      <td>2021<\/td>\n",
       "      <td>Sep<\/td>\n",
       "      <td>536.100000<\/td>\n",
       "      <td>151.276488<\/td>\n",
       "      <td>30.0<\/td>\n",
       "      <td>479.612431<\/td>\n",
       "      <td>592.587569<\/td>\n",
       "    <\/tr>\n",
       "    <tr>\n",
       "      <th>1245<\/th>\n",
       "      <td>Egypt<\/td>\n",
       "      <td>2021<\/td>\n",
       "      <td>Oct<\/td>\n",
       "      <td>854.612903<\/td>\n",
       "      <td>53.664189<\/td>\n",
       "      <td>31.0<\/td>\n",
       "      <td>834.928720<\/td>\n",
       "      <td>874.297087<\/td>\n",
       "    <\/tr>\n",
       "    <tr>\n",
       "      <th>1246<\/th>\n",
       "      <td>Egypt<\/td>\n",
       "      <td>2021<\/td>\n",
       "      <td>Nov<\/td>\n",
       "      <td>918.700000<\/td>\n",
       "      <td>248.217528<\/td>\n",
       "      <td>30.0<\/td>\n",
       "      <td>826.014052<\/td>\n",
       "      <td>1011.385948<\/td>\n",
       "    <\/tr>\n",
       "    <tr>\n",
       "      <th>1247<\/th>\n",
       "      <td>Egypt<\/td>\n",
       "      <td>2021<\/td>\n",
       "      <td>Dec<\/td>\n",
       "      <td>870.870968<\/td>\n",
       "      <td>212.967093<\/td>\n",
       "      <td>31.0<\/td>\n",
       "      <td>792.754007<\/td>\n",
       "      <td>948.987928<\/td>\n",
       "    <\/tr>\n",
       "  <\/tbody>\n",
       "<\/table>\n",
       "<\/div>"
      ]
     },
     "metadata":{
      
     },
     "output_type":"display_data"
    }
   ],
   "metadata":{
    "datalore":{
     "type":"CODE",
     "hide_input_from_viewers":false,
     "hide_output_from_viewers":false
    }
   }
  },
  {
   "cell_type":"code",
   "source":[
    "#graph for 2021\n",
    "statsEgy.columns=['country','year','month','mean','std','size','lb','ub']\n",
    "plt.plot( 'month', 'mean', data=statsEgy, marker='s', color='black',\n",
    "markersize=4, linewidth=1, linestyle='--')\n",
    "plt.plot( 'month', 'mean', data=statsEgy, marker='o', color='black',\n",
    "markersize=4, linewidth=1,linestyle='-')\n",
    "plt.xlabel(\"Month\")\n",
    "plt.ylabel(\"Average Daily COVID CASES\")\n",
    "plt.title(\"Egypt\")\n",
    "plt.show()\n"
   ],
   "execution_count":65,
   "outputs":[
    {
     "data":{
      "image\/png":"[encoded data removed]"
     },
     "metadata":{
      "image\/png":{
       
      }
     },
     "output_type":"display_data"
    }
   ],
   "metadata":{
    "datalore":{
     "type":"CODE",
     "hide_input_from_viewers":false,
     "hide_output_from_viewers":false
    }
   }
  },
  {
   "cell_type":"code",
   "source":[
    "statsEgy20=statsdcases[(statsdcases['country']=='Egypt') & (statsdcases['year']==2020)]\n",
    "statsEgy20"
   ],
   "execution_count":66,
   "outputs":[
    {
     "data":{
      "text\/html":[
       "<div>\n",
       "<style scoped>\n",
       "    .dataframe tbody tr th:only-of-type {\n",
       "        vertical-align: middle;\n",
       "    }\n",
       "\n",
       "    .dataframe tbody tr th {\n",
       "        vertical-align: top;\n",
       "    }\n",
       "\n",
       "    .dataframe thead tr th {\n",
       "        text-align: left;\n",
       "    }\n",
       "<\/style>\n",
       "<table border=\"1\" class=\"dataframe\">\n",
       "  <thead>\n",
       "    <tr>\n",
       "      <th><\/th>\n",
       "      <th>country<\/th>\n",
       "      <th>year<\/th>\n",
       "      <th>month<\/th>\n",
       "      <th colspan=\"5\" halign=\"left\">dcases<\/th>\n",
       "    <\/tr>\n",
       "    <tr>\n",
       "      <th><\/th>\n",
       "      <th><\/th>\n",
       "      <th><\/th>\n",
       "      <th><\/th>\n",
       "      <th>mean<\/th>\n",
       "      <th>std<\/th>\n",
       "      <th>size<\/th>\n",
       "      <th>get_ci_lb<\/th>\n",
       "      <th>get_ci_ub<\/th>\n",
       "    <\/tr>\n",
       "  <\/thead>\n",
       "  <tbody>\n",
       "    <tr>\n",
       "      <th>1224<\/th>\n",
       "      <td>Egypt<\/td>\n",
       "      <td>2020<\/td>\n",
       "      <td>Jan<\/td>\n",
       "      <td>NaN<\/td>\n",
       "      <td>NaN<\/td>\n",
       "      <td>NaN<\/td>\n",
       "      <td>NaN<\/td>\n",
       "      <td>NaN<\/td>\n",
       "    <\/tr>\n",
       "    <tr>\n",
       "      <th>1225<\/th>\n",
       "      <td>Egypt<\/td>\n",
       "      <td>2020<\/td>\n",
       "      <td>Feb<\/td>\n",
       "      <td>0.062500<\/td>\n",
       "      <td>0.250000<\/td>\n",
       "      <td>16.0<\/td>\n",
       "      <td>-0.070716<\/td>\n",
       "      <td>0.195716<\/td>\n",
       "    <\/tr>\n",
       "    <tr>\n",
       "      <th>1226<\/th>\n",
       "      <td>Egypt<\/td>\n",
       "      <td>2020<\/td>\n",
       "      <td>Mar<\/td>\n",
       "      <td>22.870968<\/td>\n",
       "      <td>20.228267<\/td>\n",
       "      <td>31.0<\/td>\n",
       "      <td>15.451179<\/td>\n",
       "      <td>30.290756<\/td>\n",
       "    <\/tr>\n",
       "    <tr>\n",
       "      <th>1227<\/th>\n",
       "      <td>Egypt<\/td>\n",
       "      <td>2020<\/td>\n",
       "      <td>Apr<\/td>\n",
       "      <td>160.900000<\/td>\n",
       "      <td>54.996144<\/td>\n",
       "      <td>30.0<\/td>\n",
       "      <td>140.364102<\/td>\n",
       "      <td>181.435898<\/td>\n",
       "    <\/tr>\n",
       "    <tr>\n",
       "      <th>1228<\/th>\n",
       "      <td>Egypt<\/td>\n",
       "      <td>2020<\/td>\n",
       "      <td>May<\/td>\n",
       "      <td>627.354839<\/td>\n",
       "      <td>330.723908<\/td>\n",
       "      <td>31.0<\/td>\n",
       "      <td>506.044330<\/td>\n",
       "      <td>748.665347<\/td>\n",
       "    <\/tr>\n",
       "    <tr>\n",
       "      <th>1229<\/th>\n",
       "      <td>Egypt<\/td>\n",
       "      <td>2020<\/td>\n",
       "      <td>Jun<\/td>\n",
       "      <td>1444.200000<\/td>\n",
       "      <td>176.114853<\/td>\n",
       "      <td>30.0<\/td>\n",
       "      <td>1378.437633<\/td>\n",
       "      <td>1509.962367<\/td>\n",
       "    <\/tr>\n",
       "    <tr>\n",
       "      <th>1230<\/th>\n",
       "      <td>Egypt<\/td>\n",
       "      <td>2020<\/td>\n",
       "      <td>Jul<\/td>\n",
       "      <td>831.193548<\/td>\n",
       "      <td>326.183427<\/td>\n",
       "      <td>31.0<\/td>\n",
       "      <td>711.548501<\/td>\n",
       "      <td>950.838595<\/td>\n",
       "    <\/tr>\n",
       "    <tr>\n",
       "      <th>1231<\/th>\n",
       "      <td>Egypt<\/td>\n",
       "      <td>2020<\/td>\n",
       "      <td>Aug<\/td>\n",
       "      <td>156.806452<\/td>\n",
       "      <td>42.607839<\/td>\n",
       "      <td>31.0<\/td>\n",
       "      <td>141.177770<\/td>\n",
       "      <td>172.435133<\/td>\n",
       "    <\/tr>\n",
       "    <tr>\n",
       "      <th>1232<\/th>\n",
       "      <td>Egypt<\/td>\n",
       "      <td>2020<\/td>\n",
       "      <td>Sep<\/td>\n",
       "      <td>141.966667<\/td>\n",
       "      <td>23.389481<\/td>\n",
       "      <td>30.0<\/td>\n",
       "      <td>133.232891<\/td>\n",
       "      <td>150.700442<\/td>\n",
       "    <\/tr>\n",
       "    <tr>\n",
       "      <th>1233<\/th>\n",
       "      <td>Egypt<\/td>\n",
       "      <td>2020<\/td>\n",
       "      <td>Oct<\/td>\n",
       "      <td>140.548387<\/td>\n",
       "      <td>24.650678<\/td>\n",
       "      <td>31.0<\/td>\n",
       "      <td>131.506445<\/td>\n",
       "      <td>149.590329<\/td>\n",
       "    <\/tr>\n",
       "    <tr>\n",
       "      <th>1234<\/th>\n",
       "      <td>Egypt<\/td>\n",
       "      <td>2020<\/td>\n",
       "      <td>Nov<\/td>\n",
       "      <td>278.533333<\/td>\n",
       "      <td>71.137426<\/td>\n",
       "      <td>30.0<\/td>\n",
       "      <td>251.970182<\/td>\n",
       "      <td>305.096485<\/td>\n",
       "    <\/tr>\n",
       "    <tr>\n",
       "      <th>1235<\/th>\n",
       "      <td>Egypt<\/td>\n",
       "      <td>2020<\/td>\n",
       "      <td>Dec<\/td>\n",
       "      <td>714.548387<\/td>\n",
       "      <td>354.179036<\/td>\n",
       "      <td>31.0<\/td>\n",
       "      <td>584.634468<\/td>\n",
       "      <td>844.462306<\/td>\n",
       "    <\/tr>\n",
       "  <\/tbody>\n",
       "<\/table>\n",
       "<\/div>"
      ]
     },
     "metadata":{
      
     },
     "output_type":"display_data"
    }
   ],
   "metadata":{
    "datalore":{
     "type":"CODE",
     "hide_input_from_viewers":false,
     "hide_output_from_viewers":false
    }
   }
  },
  {
   "cell_type":"code",
   "source":[
    "statsEgy20.columns=['country','year','month','mean','std','size','lb','ub']\n",
    "statsEgy.columns=['country','year','month','mean','std','size','lb','ub']\n",
    "x=statsEgy20['month']\n",
    "x"
   ],
   "execution_count":67,
   "outputs":[
    {
     "data":{
      "text\/html":[
       
      ]
     },
     "metadata":{
      
     },
     "output_type":"display_data"
    }
   ],
   "metadata":{
    "datalore":{
     "type":"CODE",
     "hide_input_from_viewers":false,
     "hide_output_from_viewers":false
    }
   }
  },
  {
   "cell_type":"code",
   "source":[
    "y1=statsEgy20['mean']\n",
    "y1"
   ],
   "execution_count":68,
   "outputs":[
    {
     "data":{
      "text\/html":[
       
      ]
     },
     "metadata":{
      
     },
     "output_type":"display_data"
    }
   ],
   "metadata":{
    "datalore":{
     "type":"CODE",
     "hide_input_from_viewers":false,
     "hide_output_from_viewers":false
    }
   }
  },
  {
   "cell_type":"code",
   "source":[
    "y2=statsEgy['mean']\n",
    "y2"
   ],
   "execution_count":69,
   "outputs":[
    {
     "data":{
      "text\/html":[
       
      ]
     },
     "metadata":{
      
     },
     "output_type":"display_data"
    }
   ],
   "metadata":{
    "datalore":{
     "type":"CODE",
     "hide_input_from_viewers":false,
     "hide_output_from_viewers":false
    }
   }
  },
  {
   "cell_type":"code",
   "source":[
    "ci_lb_ub20=[statsEgy20['lb'],statsEgy20['ub']]\n",
    "err20 = np.abs(ci_lb_ub20 - statsEgy20['mean'].to_numpy())\n",
    "ci_lb_ub21=[statsEgy['lb'],statsEgy['ub']]\n",
    "err21 = np.abs(ci_lb_ub21 - statsEgy['mean'].to_numpy())"
   ],
   "execution_count":70,
   "outputs":[
    
   ],
   "metadata":{
    "datalore":{
     "type":"CODE",
     "hide_input_from_viewers":false,
     "hide_output_from_viewers":false
    }
   }
  },
  {
   "cell_type":"code",
   "source":[
    "fig, ax = plt.subplots()\n",
    "trans1 = Affine2D().translate(-0.1, 0.0) + ax.transData\n",
    "trans2 = Affine2D().translate(+0.1, 0.0) + ax.transData\n",
    "plt.errorbar('month', 'mean', yerr=err20, data=statsEgy20,marker='s',\n",
    "capsize=2,\n",
    "color='blue', markersize=4, linewidth=1,\n",
    "linestyle='--',transform=trans1)\n",
    "plt.errorbar('month', 'mean', yerr=err21, data=statsEgy,marker='s',\n",
    "capsize=2,\n",
    " color='red', markersize=4, linewidth=1,\n",
    "linestyle='--',transform=trans2)\n",
    "plt.legend(['2020','2021'])\n",
    "plt.xlabel(\"Month\")\n",
    "plt.ylabel(\"Average Daily COVID CASES\")\n",
    "plt.title(\"Egypt\")\n",
    "plt.show()"
   ],
   "execution_count":71,
   "outputs":[
    {
     "name":"stderr",
     "text":[
      "\/opt\/python\/envs\/default\/lib\/python3.8\/site-packages\/numpy\/core\/_methods.py:44: RuntimeWarning: invalid value encountered in reduce\n",
      "  return umr_minimum(a, axis, None, out, keepdims, initial, where)\n",
      "\/opt\/python\/envs\/default\/lib\/python3.8\/site-packages\/numpy\/core\/_methods.py:40: RuntimeWarning: invalid value encountered in reduce\n",
      "  return umr_maximum(a, axis, None, out, keepdims, initial, where)\n"
     ],
     "output_type":"stream"
    },
    {
     "data":{
      "image\/png":"[encoded data removed]"
     },
     "metadata":{
      "image\/png":{
       
      }
     },
     "output_type":"display_data"
    }
   ],
   "metadata":{
    "datalore":{
     "type":"CODE",
     "hide_input_from_viewers":false,
     "hide_output_from_viewers":false
    }
   }
  },
  {
   "cell_type":"code",
   "source":[
    "# we can see in 2020 Egypt peaked earlier than the world\n",
    "#in 2021 covid cases peake in may but then continoued to decrease until it reached a low in july\n",
    "#but after the low in july 2021 it started increasing rapidly and began to level off at 800 cases\n",
    "# the trend in 2021 is more bullish than in 2020"
   ],
   "execution_count":72,
   "outputs":[
    
   ],
   "metadata":{
    "datalore":{
     "type":"CODE",
     "hide_input_from_viewers":false,
     "hide_output_from_viewers":false
    }
   }
  },
  {
   "cell_type":"code",
   "source":[
    "#did the same thing with the UK\n",
    "statsUK21=statsdcases[(statsdcases['country']=='United Kingdom') &(statsdcases['year']==2021)]\n",
    "statsUK21"
   ],
   "execution_count":73,
   "outputs":[
    {
     "data":{
      "text\/html":[
       "<div>\n",
       "<style scoped>\n",
       "    .dataframe tbody tr th:only-of-type {\n",
       "        vertical-align: middle;\n",
       "    }\n",
       "\n",
       "    .dataframe tbody tr th {\n",
       "        vertical-align: top;\n",
       "    }\n",
       "\n",
       "    .dataframe thead tr th {\n",
       "        text-align: left;\n",
       "    }\n",
       "<\/style>\n",
       "<table border=\"1\" class=\"dataframe\">\n",
       "  <thead>\n",
       "    <tr>\n",
       "      <th><\/th>\n",
       "      <th>country<\/th>\n",
       "      <th>year<\/th>\n",
       "      <th>month<\/th>\n",
       "      <th colspan=\"5\" halign=\"left\">dcases<\/th>\n",
       "    <\/tr>\n",
       "    <tr>\n",
       "      <th><\/th>\n",
       "      <th><\/th>\n",
       "      <th><\/th>\n",
       "      <th><\/th>\n",
       "      <th>mean<\/th>\n",
       "      <th>std<\/th>\n",
       "      <th>size<\/th>\n",
       "      <th>get_ci_lb<\/th>\n",
       "      <th>get_ci_ub<\/th>\n",
       "    <\/tr>\n",
       "  <\/thead>\n",
       "  <tbody>\n",
       "    <tr>\n",
       "      <th>4260<\/th>\n",
       "      <td>United Kingdom<\/td>\n",
       "      <td>2021<\/td>\n",
       "      <td>Jan<\/td>\n",
       "      <td>42965.935484<\/td>\n",
       "      <td>13914.484190<\/td>\n",
       "      <td>31.0<\/td>\n",
       "      <td>37862.061478<\/td>\n",
       "      <td>48069.809490<\/td>\n",
       "    <\/tr>\n",
       "    <tr>\n",
       "      <th>4261<\/th>\n",
       "      <td>United Kingdom<\/td>\n",
       "      <td>2021<\/td>\n",
       "      <td>Feb<\/td>\n",
       "      <td>12881.857143<\/td>\n",
       "      <td>3890.172335<\/td>\n",
       "      <td>28.0<\/td>\n",
       "      <td>11373.405786<\/td>\n",
       "      <td>14390.308500<\/td>\n",
       "    <\/tr>\n",
       "    <tr>\n",
       "      <th>4262<\/th>\n",
       "      <td>United Kingdom<\/td>\n",
       "      <td>2021<\/td>\n",
       "      <td>Mar<\/td>\n",
       "      <td>5521.161290<\/td>\n",
       "      <td>823.915736<\/td>\n",
       "      <td>31.0<\/td>\n",
       "      <td>5218.946559<\/td>\n",
       "      <td>5823.376022<\/td>\n",
       "    <\/tr>\n",
       "    <tr>\n",
       "      <th>4263<\/th>\n",
       "      <td>United Kingdom<\/td>\n",
       "      <td>2021<\/td>\n",
       "      <td>Apr<\/td>\n",
       "      <td>2568.433333<\/td>\n",
       "      <td>760.599704<\/td>\n",
       "      <td>30.0<\/td>\n",
       "      <td>2284.420736<\/td>\n",
       "      <td>2852.445930<\/td>\n",
       "    <\/tr>\n",
       "    <tr>\n",
       "      <th>4264<\/th>\n",
       "      <td>United Kingdom<\/td>\n",
       "      <td>2021<\/td>\n",
       "      <td>May<\/td>\n",
       "      <td>2366.000000<\/td>\n",
       "      <td>702.538303<\/td>\n",
       "      <td>31.0<\/td>\n",
       "      <td>2108.306870<\/td>\n",
       "      <td>2623.693130<\/td>\n",
       "    <\/tr>\n",
       "    <tr>\n",
       "      <th>4265<\/th>\n",
       "      <td>United Kingdom<\/td>\n",
       "      <td>2021<\/td>\n",
       "      <td>Jun<\/td>\n",
       "      <td>10467.200000<\/td>\n",
       "      <td>5703.039265<\/td>\n",
       "      <td>30.0<\/td>\n",
       "      <td>8337.650140<\/td>\n",
       "      <td>12596.749860<\/td>\n",
       "    <\/tr>\n",
       "    <tr>\n",
       "      <th>4266<\/th>\n",
       "      <td>United Kingdom<\/td>\n",
       "      <td>2021<\/td>\n",
       "      <td>Jul<\/td>\n",
       "      <td>34392.451613<\/td>\n",
       "      <td>8829.384908<\/td>\n",
       "      <td>31.0<\/td>\n",
       "      <td>31153.807082<\/td>\n",
       "      <td>37631.096144<\/td>\n",
       "    <\/tr>\n",
       "    <tr>\n",
       "      <th>4267<\/th>\n",
       "      <td>United Kingdom<\/td>\n",
       "      <td>2021<\/td>\n",
       "      <td>Aug<\/td>\n",
       "      <td>30255.064516<\/td>\n",
       "      <td>4435.583110<\/td>\n",
       "      <td>31.0<\/td>\n",
       "      <td>28628.079496<\/td>\n",
       "      <td>31882.049536<\/td>\n",
       "    <\/tr>\n",
       "    <tr>\n",
       "      <th>4268<\/th>\n",
       "      <td>United Kingdom<\/td>\n",
       "      <td>2021<\/td>\n",
       "      <td>Sep<\/td>\n",
       "      <td>34084.566667<\/td>\n",
       "      <td>4124.159364<\/td>\n",
       "      <td>30.0<\/td>\n",
       "      <td>32544.580251<\/td>\n",
       "      <td>35624.553082<\/td>\n",
       "    <\/tr>\n",
       "    <tr>\n",
       "      <th>4269<\/th>\n",
       "      <td>United Kingdom<\/td>\n",
       "      <td>2021<\/td>\n",
       "      <td>Oct<\/td>\n",
       "      <td>40538.000000<\/td>\n",
       "      <td>5581.618965<\/td>\n",
       "      <td>31.0<\/td>\n",
       "      <td>38490.645635<\/td>\n",
       "      <td>42585.354365<\/td>\n",
       "    <\/tr>\n",
       "    <tr>\n",
       "      <th>4270<\/th>\n",
       "      <td>United Kingdom<\/td>\n",
       "      <td>2021<\/td>\n",
       "      <td>Nov<\/td>\n",
       "      <td>39497.000000<\/td>\n",
       "      <td>4990.472302<\/td>\n",
       "      <td>30.0<\/td>\n",
       "      <td>37633.527017<\/td>\n",
       "      <td>41360.472983<\/td>\n",
       "    <\/tr>\n",
       "    <tr>\n",
       "      <th>4271<\/th>\n",
       "      <td>United Kingdom<\/td>\n",
       "      <td>2021<\/td>\n",
       "      <td>Dec<\/td>\n",
       "      <td>87916.451613<\/td>\n",
       "      <td>43936.704948<\/td>\n",
       "      <td>31.0<\/td>\n",
       "      <td>71800.338127<\/td>\n",
       "      <td>104032.565099<\/td>\n",
       "    <\/tr>\n",
       "  <\/tbody>\n",
       "<\/table>\n",
       "<\/div>"
      ]
     },
     "metadata":{
      
     },
     "output_type":"display_data"
    }
   ],
   "metadata":{
    "datalore":{
     "type":"CODE",
     "hide_input_from_viewers":false,
     "hide_output_from_viewers":false
    }
   }
  },
  {
   "cell_type":"code",
   "source":[
    "statsUK20=statsdcases[(statsdcases['country']=='United Kingdom') &(statsdcases['year']==2020)]\n",
    "statsUK20"
   ],
   "execution_count":74,
   "outputs":[
    {
     "data":{
      "text\/html":[
       "<div>\n",
       "<style scoped>\n",
       "    .dataframe tbody tr th:only-of-type {\n",
       "        vertical-align: middle;\n",
       "    }\n",
       "\n",
       "    .dataframe tbody tr th {\n",
       "        vertical-align: top;\n",
       "    }\n",
       "\n",
       "    .dataframe thead tr th {\n",
       "        text-align: left;\n",
       "    }\n",
       "<\/style>\n",
       "<table border=\"1\" class=\"dataframe\">\n",
       "  <thead>\n",
       "    <tr>\n",
       "      <th><\/th>\n",
       "      <th>country<\/th>\n",
       "      <th>year<\/th>\n",
       "      <th>month<\/th>\n",
       "      <th colspan=\"5\" halign=\"left\">dcases<\/th>\n",
       "    <\/tr>\n",
       "    <tr>\n",
       "      <th><\/th>\n",
       "      <th><\/th>\n",
       "      <th><\/th>\n",
       "      <th><\/th>\n",
       "      <th>mean<\/th>\n",
       "      <th>std<\/th>\n",
       "      <th>size<\/th>\n",
       "      <th>get_ci_lb<\/th>\n",
       "      <th>get_ci_ub<\/th>\n",
       "    <\/tr>\n",
       "  <\/thead>\n",
       "  <tbody>\n",
       "    <tr>\n",
       "      <th>4248<\/th>\n",
       "      <td>United Kingdom<\/td>\n",
       "      <td>2020<\/td>\n",
       "      <td>Jan<\/td>\n",
       "      <td>2.000000<\/td>\n",
       "      <td>NaN<\/td>\n",
       "      <td>1.0<\/td>\n",
       "      <td>NaN<\/td>\n",
       "      <td>NaN<\/td>\n",
       "    <\/tr>\n",
       "    <tr>\n",
       "      <th>4249<\/th>\n",
       "      <td>United Kingdom<\/td>\n",
       "      <td>2020<\/td>\n",
       "      <td>Feb<\/td>\n",
       "      <td>2.034483<\/td>\n",
       "      <td>2.783661<\/td>\n",
       "      <td>29.0<\/td>\n",
       "      <td>0.975635<\/td>\n",
       "      <td>3.093331<\/td>\n",
       "    <\/tr>\n",
       "    <tr>\n",
       "      <th>4250<\/th>\n",
       "      <td>United Kingdom<\/td>\n",
       "      <td>2020<\/td>\n",
       "      <td>Mar<\/td>\n",
       "      <td>1249.258065<\/td>\n",
       "      <td>1356.684143<\/td>\n",
       "      <td>31.0<\/td>\n",
       "      <td>751.622303<\/td>\n",
       "      <td>1746.893826<\/td>\n",
       "    <\/tr>\n",
       "    <tr>\n",
       "      <th>4251<\/th>\n",
       "      <td>United Kingdom<\/td>\n",
       "      <td>2020<\/td>\n",
       "      <td>Apr<\/td>\n",
       "      <td>4665.900000<\/td>\n",
       "      <td>623.577684<\/td>\n",
       "      <td>30.0<\/td>\n",
       "      <td>4433.052266<\/td>\n",
       "      <td>4898.747734<\/td>\n",
       "    <\/tr>\n",
       "    <tr>\n",
       "      <th>4252<\/th>\n",
       "      <td>United Kingdom<\/td>\n",
       "      <td>2020<\/td>\n",
       "      <td>May<\/td>\n",
       "      <td>2540.967742<\/td>\n",
       "      <td>920.761007<\/td>\n",
       "      <td>31.0<\/td>\n",
       "      <td>2203.229878<\/td>\n",
       "      <td>2878.705606<\/td>\n",
       "    <\/tr>\n",
       "    <tr>\n",
       "      <th>4253<\/th>\n",
       "      <td>United Kingdom<\/td>\n",
       "      <td>2020<\/td>\n",
       "      <td>Jun<\/td>\n",
       "      <td>922.600000<\/td>\n",
       "      <td>276.439006<\/td>\n",
       "      <td>30.0<\/td>\n",
       "      <td>819.375979<\/td>\n",
       "      <td>1025.824021<\/td>\n",
       "    <\/tr>\n",
       "    <tr>\n",
       "      <th>4254<\/th>\n",
       "      <td>United Kingdom<\/td>\n",
       "      <td>2020<\/td>\n",
       "      <td>Jul<\/td>\n",
       "      <td>631.483871<\/td>\n",
       "      <td>229.811933<\/td>\n",
       "      <td>31.0<\/td>\n",
       "      <td>547.188173<\/td>\n",
       "      <td>715.779569<\/td>\n",
       "    <\/tr>\n",
       "    <tr>\n",
       "      <th>4255<\/th>\n",
       "      <td>United Kingdom<\/td>\n",
       "      <td>2020<\/td>\n",
       "      <td>Aug<\/td>\n",
       "      <td>1073.774194<\/td>\n",
       "      <td>253.454889<\/td>\n",
       "      <td>31.0<\/td>\n",
       "      <td>980.806190<\/td>\n",
       "      <td>1166.742197<\/td>\n",
       "    <\/tr>\n",
       "    <tr>\n",
       "      <th>4256<\/th>\n",
       "      <td>United Kingdom<\/td>\n",
       "      <td>2020<\/td>\n",
       "      <td>Sep<\/td>\n",
       "      <td>3925.700000<\/td>\n",
       "      <td>1724.890464<\/td>\n",
       "      <td>30.0<\/td>\n",
       "      <td>3281.615315<\/td>\n",
       "      <td>4569.784685<\/td>\n",
       "    <\/tr>\n",
       "    <tr>\n",
       "      <th>4257<\/th>\n",
       "      <td>United Kingdom<\/td>\n",
       "      <td>2020<\/td>\n",
       "      <td>Oct<\/td>\n",
       "      <td>18030.354839<\/td>\n",
       "      <td>4917.879276<\/td>\n",
       "      <td>31.0<\/td>\n",
       "      <td>16226.462157<\/td>\n",
       "      <td>19834.247521<\/td>\n",
       "    <\/tr>\n",
       "    <tr>\n",
       "      <th>4258<\/th>\n",
       "      <td>United Kingdom<\/td>\n",
       "      <td>2020<\/td>\n",
       "      <td>Nov<\/td>\n",
       "      <td>20629.700000<\/td>\n",
       "      <td>4845.261583<\/td>\n",
       "      <td>30.0<\/td>\n",
       "      <td>18820.449591<\/td>\n",
       "      <td>22438.950409<\/td>\n",
       "    <\/tr>\n",
       "    <tr>\n",
       "      <th>4259<\/th>\n",
       "      <td>United Kingdom<\/td>\n",
       "      <td>2020<\/td>\n",
       "      <td>Dec<\/td>\n",
       "      <td>27822.838710<\/td>\n",
       "      <td>12272.760027<\/td>\n",
       "      <td>31.0<\/td>\n",
       "      <td>23321.153988<\/td>\n",
       "      <td>32324.523431<\/td>\n",
       "    <\/tr>\n",
       "  <\/tbody>\n",
       "<\/table>\n",
       "<\/div>"
      ]
     },
     "metadata":{
      
     },
     "output_type":"display_data"
    }
   ],
   "metadata":{
    "datalore":{
     "type":"CODE",
     "hide_input_from_viewers":false,
     "hide_output_from_viewers":false
    }
   }
  },
  {
   "cell_type":"code",
   "source":[
    "statsUK21.columns=['country','year','month','mean','std','size','lb','ub']\n",
    "statsUK20.columns=['country','year','month','mean','std','size','lb','ub']\n",
    "x=statsUK21['month']\n",
    "x"
   ],
   "execution_count":75,
   "outputs":[
    {
     "data":{
      "text\/html":[
       
      ]
     },
     "metadata":{
      
     },
     "output_type":"display_data"
    }
   ],
   "metadata":{
    "datalore":{
     "type":"CODE",
     "hide_input_from_viewers":false,
     "hide_output_from_viewers":false
    }
   }
  },
  {
   "cell_type":"code",
   "source":[
    "y1=statsUK21['mean']\n",
    "y1"
   ],
   "execution_count":76,
   "outputs":[
    {
     "data":{
      "text\/html":[
       
      ]
     },
     "metadata":{
      
     },
     "output_type":"display_data"
    }
   ],
   "metadata":{
    "datalore":{
     "type":"CODE",
     "hide_input_from_viewers":false,
     "hide_output_from_viewers":false
    }
   }
  },
  {
   "cell_type":"code",
   "source":[
    "y2=statsUK20['mean']\n",
    "y2"
   ],
   "execution_count":77,
   "outputs":[
    {
     "data":{
      "text\/html":[
       
      ]
     },
     "metadata":{
      
     },
     "output_type":"display_data"
    }
   ],
   "metadata":{
    "datalore":{
     "type":"CODE",
     "hide_input_from_viewers":false,
     "hide_output_from_viewers":false
    }
   }
  },
  {
   "cell_type":"code",
   "source":[
    "ci_lb_ub20=[statsUK20['lb'],statsUK20['ub']]\n",
    "err20 = np.abs(ci_lb_ub20 - statsUK20['mean'].to_numpy())\n",
    "ci_lb_ub21=[statsUK21['lb'],statsUK21['ub']]\n",
    "err21 = np.abs(ci_lb_ub21 - statsUK21['mean'].to_numpy())"
   ],
   "execution_count":78,
   "outputs":[
    
   ],
   "metadata":{
    "datalore":{
     "type":"CODE",
     "hide_input_from_viewers":false,
     "hide_output_from_viewers":false
    }
   }
  },
  {
   "cell_type":"code",
   "source":[
    "fig, ax = plt.subplots()\n",
    "trans1 = Affine2D().translate(-0.1, 0.0) + ax.transData\n",
    "trans2 = Affine2D().translate(+0.1, 0.0) + ax.transData\n",
    "plt.errorbar('month', 'mean', yerr=err20, data=statsUK21,marker='s',\n",
    "capsize=2,\n",
    "color='black', markersize=4, linewidth=1,\n",
    "linestyle='--',transform=trans1)\n",
    "plt.errorbar('month', 'mean', yerr=err21, data=statsUK20,marker='s',\n",
    "capsize=2,\n",
    " color='purple', markersize=4, linewidth=1,\n",
    "linestyle='--',transform=trans2)\n",
    "plt.legend(['2021','2020'])\n",
    "plt.xlabel(\"Month\")\n",
    "plt.ylabel(\"Average Daily COVID CASES\")\n",
    "plt.title(\"UK\")\n",
    "plt.show()"
   ],
   "execution_count":79,
   "outputs":[
    {
     "name":"stderr",
     "text":[
      "\/opt\/python\/envs\/default\/lib\/python3.8\/site-packages\/numpy\/core\/_methods.py:44: RuntimeWarning: invalid value encountered in reduce\n",
      "  return umr_minimum(a, axis, None, out, keepdims, initial, where)\n",
      "\/opt\/python\/envs\/default\/lib\/python3.8\/site-packages\/numpy\/core\/_methods.py:40: RuntimeWarning: invalid value encountered in reduce\n",
      "  return umr_maximum(a, axis, None, out, keepdims, initial, where)\n"
     ],
     "output_type":"stream"
    },
    {
     "data":{
      "image\/png":"[encoded data removed]"
     },
     "metadata":{
      "image\/png":{
       
      }
     },
     "output_type":"display_data"
    }
   ],
   "metadata":{
    "datalore":{
     "type":"CODE",
     "hide_input_from_viewers":false,
     "hide_output_from_viewers":false
    }
   }
  },
  {
   "cell_type":"code",
   "source":[
    "# very low cases in 2020 that may be because of the hash lockdowns that were placed in the UK\n",
    "# at the end of 2020 the cases started to steadily increase but then decreased at the start of 2021\n",
    "# after may 2021, covid cases have been steadily increasing, ending the year at more than 8k+ cases daily\n",
    "# at the peak, the Uk has almost 6 times more covid cases than in egypt while it population is half's egypt"
   ],
   "execution_count":80,
   "outputs":[
    
   ],
   "metadata":{
    "datalore":{
     "type":"CODE",
     "hide_input_from_viewers":false,
     "hide_output_from_viewers":false
    }
   }
  },
  {
   "cell_type":"code",
   "source":[
    "statsCH21=statsdcases[(statsdcases['country']=='China') &(statsdcases['year']==2021)]\n",
    "statsCH21"
   ],
   "execution_count":81,
   "outputs":[
    {
     "data":{
      "text\/html":[
       "<div>\n",
       "<style scoped>\n",
       "    .dataframe tbody tr th:only-of-type {\n",
       "        vertical-align: middle;\n",
       "    }\n",
       "\n",
       "    .dataframe tbody tr th {\n",
       "        vertical-align: top;\n",
       "    }\n",
       "\n",
       "    .dataframe thead tr th {\n",
       "        text-align: left;\n",
       "    }\n",
       "<\/style>\n",
       "<table border=\"1\" class=\"dataframe\">\n",
       "  <thead>\n",
       "    <tr>\n",
       "      <th><\/th>\n",
       "      <th>country<\/th>\n",
       "      <th>year<\/th>\n",
       "      <th>month<\/th>\n",
       "      <th colspan=\"5\" halign=\"left\">dcases<\/th>\n",
       "    <\/tr>\n",
       "    <tr>\n",
       "      <th><\/th>\n",
       "      <th><\/th>\n",
       "      <th><\/th>\n",
       "      <th><\/th>\n",
       "      <th>mean<\/th>\n",
       "      <th>std<\/th>\n",
       "      <th>size<\/th>\n",
       "      <th>get_ci_lb<\/th>\n",
       "      <th>get_ci_ub<\/th>\n",
       "    <\/tr>\n",
       "  <\/thead>\n",
       "  <tbody>\n",
       "    <tr>\n",
       "      <th>852<\/th>\n",
       "      <td>China<\/td>\n",
       "      <td>2021<\/td>\n",
       "      <td>Jan<\/td>\n",
       "      <td>132.258065<\/td>\n",
       "      <td>47.685055<\/td>\n",
       "      <td>31.0<\/td>\n",
       "      <td>114.767045<\/td>\n",
       "      <td>149.749084<\/td>\n",
       "    <\/tr>\n",
       "    <tr>\n",
       "      <th>853<\/th>\n",
       "      <td>China<\/td>\n",
       "      <td>2021<\/td>\n",
       "      <td>Feb<\/td>\n",
       "      <td>32.214286<\/td>\n",
       "      <td>12.329901<\/td>\n",
       "      <td>28.0<\/td>\n",
       "      <td>27.433249<\/td>\n",
       "      <td>36.995322<\/td>\n",
       "    <\/tr>\n",
       "    <tr>\n",
       "      <th>854<\/th>\n",
       "      <td>China<\/td>\n",
       "      <td>2021<\/td>\n",
       "      <td>Mar<\/td>\n",
       "      <td>24.741935<\/td>\n",
       "      <td>11.735893<\/td>\n",
       "      <td>31.0<\/td>\n",
       "      <td>20.437175<\/td>\n",
       "      <td>29.046696<\/td>\n",
       "    <\/tr>\n",
       "    <tr>\n",
       "      <th>855<\/th>\n",
       "      <td>China<\/td>\n",
       "      <td>2021<\/td>\n",
       "      <td>Apr<\/td>\n",
       "      <td>25.400000<\/td>\n",
       "      <td>9.197451<\/td>\n",
       "      <td>30.0<\/td>\n",
       "      <td>21.965615<\/td>\n",
       "      <td>28.834385<\/td>\n",
       "    <\/tr>\n",
       "    <tr>\n",
       "      <th>856<\/th>\n",
       "      <td>China<\/td>\n",
       "      <td>2021<\/td>\n",
       "      <td>May<\/td>\n",
       "      <td>16.774194<\/td>\n",
       "      <td>5.678672<\/td>\n",
       "      <td>31.0<\/td>\n",
       "      <td>14.691240<\/td>\n",
       "      <td>18.857147<\/td>\n",
       "    <\/tr>\n",
       "    <tr>\n",
       "      <th>857<\/th>\n",
       "      <td>China<\/td>\n",
       "      <td>2021<\/td>\n",
       "      <td>Jun<\/td>\n",
       "      <td>25.166667<\/td>\n",
       "      <td>6.853559<\/td>\n",
       "      <td>30.0<\/td>\n",
       "      <td>22.607506<\/td>\n",
       "      <td>27.725827<\/td>\n",
       "    <\/tr>\n",
       "    <tr>\n",
       "      <th>858<\/th>\n",
       "      <td>China<\/td>\n",
       "      <td>2021<\/td>\n",
       "      <td>Jul<\/td>\n",
       "      <td>41.354839<\/td>\n",
       "      <td>24.537792<\/td>\n",
       "      <td>31.0<\/td>\n",
       "      <td>32.354304<\/td>\n",
       "      <td>50.355373<\/td>\n",
       "    <\/tr>\n",
       "    <tr>\n",
       "      <th>859<\/th>\n",
       "      <td>China<\/td>\n",
       "      <td>2021<\/td>\n",
       "      <td>Aug<\/td>\n",
       "      <td>65.258065<\/td>\n",
       "      <td>37.653657<\/td>\n",
       "      <td>31.0<\/td>\n",
       "      <td>51.446592<\/td>\n",
       "      <td>79.069537<\/td>\n",
       "    <\/tr>\n",
       "    <tr>\n",
       "      <th>860<\/th>\n",
       "      <td>China<\/td>\n",
       "      <td>2021<\/td>\n",
       "      <td>Sep<\/td>\n",
       "      <td>45.900000<\/td>\n",
       "      <td>19.972999<\/td>\n",
       "      <td>30.0<\/td>\n",
       "      <td>38.441960<\/td>\n",
       "      <td>53.358040<\/td>\n",
       "    <\/tr>\n",
       "    <tr>\n",
       "      <th>861<\/th>\n",
       "      <td>China<\/td>\n",
       "      <td>2021<\/td>\n",
       "      <td>Oct<\/td>\n",
       "      <td>39.225806<\/td>\n",
       "      <td>20.926394<\/td>\n",
       "      <td>31.0<\/td>\n",
       "      <td>31.549943<\/td>\n",
       "      <td>46.901670<\/td>\n",
       "    <\/tr>\n",
       "    <tr>\n",
       "      <th>862<\/th>\n",
       "      <td>China<\/td>\n",
       "      <td>2021<\/td>\n",
       "      <td>Nov<\/td>\n",
       "      <td>55.700000<\/td>\n",
       "      <td>30.655089<\/td>\n",
       "      <td>30.0<\/td>\n",
       "      <td>44.253202<\/td>\n",
       "      <td>67.146798<\/td>\n",
       "    <\/tr>\n",
       "    <tr>\n",
       "      <th>863<\/th>\n",
       "      <td>China<\/td>\n",
       "      <td>2021<\/td>\n",
       "      <td>Dec<\/td>\n",
       "      <td>119.516129<\/td>\n",
       "      <td>69.743755<\/td>\n",
       "      <td>31.0<\/td>\n",
       "      <td>93.933913<\/td>\n",
       "      <td>145.098345<\/td>\n",
       "    <\/tr>\n",
       "  <\/tbody>\n",
       "<\/table>\n",
       "<\/div>"
      ]
     },
     "metadata":{
      
     },
     "output_type":"display_data"
    }
   ],
   "metadata":{
    "datalore":{
     "type":"CODE",
     "hide_input_from_viewers":false,
     "hide_output_from_viewers":false
    }
   }
  },
  {
   "cell_type":"code",
   "source":[
    "statsCH20=statsdcases[(statsdcases['country']=='China') &(statsdcases['year']==2020)]\n",
    "statsCH20"
   ],
   "execution_count":82,
   "outputs":[
    {
     "data":{
      "text\/html":[
       "<div>\n",
       "<style scoped>\n",
       "    .dataframe tbody tr th:only-of-type {\n",
       "        vertical-align: middle;\n",
       "    }\n",
       "\n",
       "    .dataframe tbody tr th {\n",
       "        vertical-align: top;\n",
       "    }\n",
       "\n",
       "    .dataframe thead tr th {\n",
       "        text-align: left;\n",
       "    }\n",
       "<\/style>\n",
       "<table border=\"1\" class=\"dataframe\">\n",
       "  <thead>\n",
       "    <tr>\n",
       "      <th><\/th>\n",
       "      <th>country<\/th>\n",
       "      <th>year<\/th>\n",
       "      <th>month<\/th>\n",
       "      <th colspan=\"5\" halign=\"left\">dcases<\/th>\n",
       "    <\/tr>\n",
       "    <tr>\n",
       "      <th><\/th>\n",
       "      <th><\/th>\n",
       "      <th><\/th>\n",
       "      <th><\/th>\n",
       "      <th>mean<\/th>\n",
       "      <th>std<\/th>\n",
       "      <th>size<\/th>\n",
       "      <th>get_ci_lb<\/th>\n",
       "      <th>get_ci_ub<\/th>\n",
       "    <\/tr>\n",
       "  <\/thead>\n",
       "  <tbody>\n",
       "    <tr>\n",
       "      <th>840<\/th>\n",
       "      <td>China<\/td>\n",
       "      <td>2020<\/td>\n",
       "      <td>Jan<\/td>\n",
       "      <td>980.200000<\/td>\n",
       "      <td>839.605966<\/td>\n",
       "      <td>10.0<\/td>\n",
       "      <td>379.582074<\/td>\n",
       "      <td>1580.817926<\/td>\n",
       "    <\/tr>\n",
       "    <tr>\n",
       "      <th>841<\/th>\n",
       "      <td>China<\/td>\n",
       "      <td>2020<\/td>\n",
       "      <td>Feb<\/td>\n",
       "      <td>2398.413793<\/td>\n",
       "      <td>2920.163578<\/td>\n",
       "      <td>29.0<\/td>\n",
       "      <td>1287.642973<\/td>\n",
       "      <td>3509.184613<\/td>\n",
       "    <\/tr>\n",
       "    <tr>\n",
       "      <th>842<\/th>\n",
       "      <td>China<\/td>\n",
       "      <td>2020<\/td>\n",
       "      <td>Mar<\/td>\n",
       "      <td>93.193548<\/td>\n",
       "      <td>101.152499<\/td>\n",
       "      <td>31.0<\/td>\n",
       "      <td>56.090512<\/td>\n",
       "      <td>130.296584<\/td>\n",
       "    <\/tr>\n",
       "    <tr>\n",
       "      <th>843<\/th>\n",
       "      <td>China<\/td>\n",
       "      <td>2020<\/td>\n",
       "      <td>Apr<\/td>\n",
       "      <td>57.033333<\/td>\n",
       "      <td>65.467804<\/td>\n",
       "      <td>30.0<\/td>\n",
       "      <td>32.587254<\/td>\n",
       "      <td>81.479413<\/td>\n",
       "    <\/tr>\n",
       "    <tr>\n",
       "      <th>844<\/th>\n",
       "      <td>China<\/td>\n",
       "      <td>2020<\/td>\n",
       "      <td>May<\/td>\n",
       "      <td>6.129032<\/td>\n",
       "      <td>5.487816<\/td>\n",
       "      <td>31.0<\/td>\n",
       "      <td>4.116085<\/td>\n",
       "      <td>8.141980<\/td>\n",
       "    <\/tr>\n",
       "    <tr>\n",
       "      <th>845<\/th>\n",
       "      <td>China<\/td>\n",
       "      <td>2020<\/td>\n",
       "      <td>Jun<\/td>\n",
       "      <td>21.333333<\/td>\n",
       "      <td>17.703172<\/td>\n",
       "      <td>30.0<\/td>\n",
       "      <td>14.722860<\/td>\n",
       "      <td>27.943806<\/td>\n",
       "    <\/tr>\n",
       "    <tr>\n",
       "      <th>846<\/th>\n",
       "      <td>China<\/td>\n",
       "      <td>2020<\/td>\n",
       "      <td>Jul<\/td>\n",
       "      <td>92.580645<\/td>\n",
       "      <td>75.651294<\/td>\n",
       "      <td>31.0<\/td>\n",
       "      <td>64.831527<\/td>\n",
       "      <td>120.329764<\/td>\n",
       "    <\/tr>\n",
       "    <tr>\n",
       "      <th>847<\/th>\n",
       "      <td>China<\/td>\n",
       "      <td>2020<\/td>\n",
       "      <td>Aug<\/td>\n",
       "      <td>72.870968<\/td>\n",
       "      <td>43.574260<\/td>\n",
       "      <td>31.0<\/td>\n",
       "      <td>56.887800<\/td>\n",
       "      <td>88.854135<\/td>\n",
       "    <\/tr>\n",
       "    <tr>\n",
       "      <th>848<\/th>\n",
       "      <td>China<\/td>\n",
       "      <td>2020<\/td>\n",
       "      <td>Sep<\/td>\n",
       "      <td>21.033333<\/td>\n",
       "      <td>7.517719<\/td>\n",
       "      <td>30.0<\/td>\n",
       "      <td>18.226171<\/td>\n",
       "      <td>23.840496<\/td>\n",
       "    <\/tr>\n",
       "    <tr>\n",
       "      <th>849<\/th>\n",
       "      <td>China<\/td>\n",
       "      <td>2020<\/td>\n",
       "      <td>Oct<\/td>\n",
       "      <td>26.483871<\/td>\n",
       "      <td>9.323343<\/td>\n",
       "      <td>31.0<\/td>\n",
       "      <td>23.064041<\/td>\n",
       "      <td>29.903701<\/td>\n",
       "    <\/tr>\n",
       "    <tr>\n",
       "      <th>850<\/th>\n",
       "      <td>China<\/td>\n",
       "      <td>2020<\/td>\n",
       "      <td>Nov<\/td>\n",
       "      <td>51.200000<\/td>\n",
       "      <td>32.512491<\/td>\n",
       "      <td>30.0<\/td>\n",
       "      <td>39.059636<\/td>\n",
       "      <td>63.340364<\/td>\n",
       "    <\/tr>\n",
       "    <tr>\n",
       "      <th>851<\/th>\n",
       "      <td>China<\/td>\n",
       "      <td>2020<\/td>\n",
       "      <td>Dec<\/td>\n",
       "      <td>98.741935<\/td>\n",
       "      <td>16.719186<\/td>\n",
       "      <td>31.0<\/td>\n",
       "      <td>92.609289<\/td>\n",
       "      <td>104.874582<\/td>\n",
       "    <\/tr>\n",
       "  <\/tbody>\n",
       "<\/table>\n",
       "<\/div>"
      ]
     },
     "metadata":{
      
     },
     "output_type":"display_data"
    }
   ],
   "metadata":{
    "datalore":{
     "type":"CODE",
     "hide_input_from_viewers":false,
     "hide_output_from_viewers":false
    }
   }
  },
  {
   "cell_type":"code",
   "source":[
    "statsCH21.columns=['country','year','month','mean','std','size','lb','ub']\n",
    "statsCH20.columns=['country','year','month','mean','std','size','lb','ub']\n",
    "x=statsCH21['month']\n",
    "x"
   ],
   "execution_count":83,
   "outputs":[
    {
     "data":{
      "text\/html":[
       
      ]
     },
     "metadata":{
      
     },
     "output_type":"display_data"
    }
   ],
   "metadata":{
    "datalore":{
     "type":"CODE",
     "hide_input_from_viewers":false,
     "hide_output_from_viewers":false
    }
   }
  },
  {
   "cell_type":"code",
   "source":[
    "y1=statsCH21['mean']\n",
    "y1"
   ],
   "execution_count":84,
   "outputs":[
    {
     "data":{
      "text\/html":[
       
      ]
     },
     "metadata":{
      
     },
     "output_type":"display_data"
    }
   ],
   "metadata":{
    "datalore":{
     "type":"CODE",
     "hide_input_from_viewers":false,
     "hide_output_from_viewers":false
    }
   }
  },
  {
   "cell_type":"code",
   "source":[
    "y2=statsCH20['mean']\n",
    "y2"
   ],
   "execution_count":85,
   "outputs":[
    {
     "data":{
      "text\/html":[
       
      ]
     },
     "metadata":{
      
     },
     "output_type":"display_data"
    }
   ],
   "metadata":{
    "datalore":{
     "type":"CODE",
     "hide_input_from_viewers":false,
     "hide_output_from_viewers":false
    }
   }
  },
  {
   "cell_type":"code",
   "source":[
    "ci_lb_ub20=[statsCH20['lb'],statsCH20['ub']]\n",
    "err20 = np.abs(ci_lb_ub20 - statsCH20['mean'].to_numpy())\n",
    "ci_lb_ub21=[statsCH21['lb'],statsCH21['ub']]\n",
    "err21 = np.abs(ci_lb_ub21 - statsCH21['mean'].to_numpy())"
   ],
   "execution_count":86,
   "outputs":[
    
   ],
   "metadata":{
    "datalore":{
     "type":"CODE",
     "hide_input_from_viewers":false,
     "hide_output_from_viewers":false
    }
   }
  },
  {
   "cell_type":"code",
   "source":[
    "fig, ax = plt.subplots()\n",
    "trans1 = Affine2D().translate(-0.1, 0.0) + ax.transData\n",
    "trans2 = Affine2D().translate(+0.1, 0.0) + ax.transData\n",
    "plt.errorbar('month', 'mean', yerr=err20, data=statsCH21,marker='s',\n",
    "capsize=2,\n",
    "color='black', markersize=4, linewidth=1,\n",
    "linestyle='--',transform=trans1)\n",
    "plt.errorbar('month', 'mean', yerr=err21, data=statsCH20,marker='s',\n",
    "capsize=2,\n",
    " color='purple', markersize=4, linewidth=1,\n",
    "linestyle='--',transform=trans2)\n",
    "plt.legend(['2021','2020'])\n",
    "plt.xlabel(\"Month\")\n",
    "plt.ylabel(\"Average Daily COVID CASES\")\n",
    "plt.title(\"China\")\n",
    "plt.show()"
   ],
   "execution_count":87,
   "outputs":[
    {
     "data":{
      "image\/png":"[encoded data removed]"
     },
     "metadata":{
      "image\/png":{
       
      }
     },
     "output_type":"display_data"
    }
   ],
   "metadata":{
    "datalore":{
     "type":"CODE",
     "hide_input_from_viewers":false,
     "hide_output_from_viewers":false
    }
   }
  },
  {
   "cell_type":"code",
   "source":[
    "#Data in china look unreliable\n",
    "# the number of cases were 2,500 then went down to nearly 0 and becames steady for the rest of the year and the next one\n",
    "# i think the data is not accurate as it is very unlikely with the popluation size of china to control covid for so long"
   ],
   "execution_count":88,
   "outputs":[
    
   ],
   "metadata":{
    "datalore":{
     "type":"CODE",
     "hide_input_from_viewers":false,
     "hide_output_from_viewers":false
    }
   }
  },
  {
   "cell_type":"code",
   "source":[
    "# in the end i think that covid cases are so high in the UK compared to egypt and china as the UK consistently does tests\n",
    "# while poorer countries do not have the resources to make tests for all its citzens"
   ],
   "execution_count":89,
   "outputs":[
    
   ],
   "metadata":{
    "datalore":{
     "type":"CODE",
     "hide_input_from_viewers":false,
     "hide_output_from_viewers":false
    }
   }
  }
 ],
 "metadata":{
  "datalore":{
   "version":1,
   "computation_mode":"JUPYTER",
   "package_manager":"pip",
   "base_environment":"default",
   "packages":[
    
   ]
  }
 },
 "nbformat":4,
 "nbformat_minor":4
}